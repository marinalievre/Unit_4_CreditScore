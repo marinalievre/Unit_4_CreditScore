{
 "cells": [
  {
   "cell_type": "markdown",
   "metadata": {
    "papermill": {
     "duration": 0.06085,
     "end_time": "2020-12-25T19:28:15.637961",
     "exception": false,
     "start_time": "2020-12-25T19:28:15.577111",
     "status": "completed"
    },
    "tags": []
   },
   "source": [
    "# Импорт библиотек и загрузка данных"
   ]
  },
  {
   "cell_type": "code",
   "execution_count": 86,
   "metadata": {
    "_cell_guid": "b1076dfc-b9ad-4769-8c92-a6c4dae69d19",
    "_uuid": "8f2839f25d086af736a60e9eeb907d3b93b6e0e5",
    "execution": {
     "iopub.execute_input": "2020-12-25T19:28:15.765120Z",
     "iopub.status.busy": "2020-12-25T19:28:15.764527Z",
     "iopub.status.idle": "2020-12-25T19:28:16.940516Z",
     "shell.execute_reply": "2020-12-25T19:28:16.941002Z"
    },
    "papermill": {
     "duration": 1.244348,
     "end_time": "2020-12-25T19:28:16.941159",
     "exception": false,
     "start_time": "2020-12-25T19:28:15.696811",
     "status": "completed"
    },
    "tags": []
   },
   "outputs": [],
   "source": [
    "#\n",
    "import numpy as np \n",
    "import pandas as pd \n",
    "from pandas import Series\n",
    "\n",
    "import matplotlib.pyplot as plt\n",
    "import seaborn as sns\n",
    "\n",
    "from sklearn.feature_selection import f_classif, mutual_info_classif\n",
    "from sklearn.preprocessing import LabelEncoder, OneHotEncoder, StandardScaler, RobustScaler\n",
    "\n",
    "from sklearn.model_selection import train_test_split, GridSearchCV\n",
    "from sklearn.linear_model import LogisticRegression\n",
    "\n",
    "\n",
    "from sklearn.metrics import accuracy_score, precision_score, recall_score, f1_score, confusion_matrix\n",
    "from sklearn.metrics import auc, roc_auc_score, roc_curve, precision_recall_curve, average_precision_score\n",
    "\n",
    "#import os\n",
    "#for dirname, _, filenames in os.walk('/kaggle/input'):\n",
    "    #for filename in filenames:\n",
    "        #print(os.path.join(dirname, filename))\n"
   ]
  },
  {
   "cell_type": "code",
   "execution_count": 245,
   "metadata": {},
   "outputs": [],
   "source": [
    "train = pd.read_csv('train.csv')\n",
    "test = pd.read_csv('test.csv')\n",
    "id_test = test['client_id']"
   ]
  },
  {
   "cell_type": "code",
   "execution_count": 153,
   "metadata": {
    "execution": {
     "iopub.execute_input": "2020-12-25T19:28:17.077249Z",
     "iopub.status.busy": "2020-12-25T19:28:17.071733Z",
     "iopub.status.idle": "2020-12-25T19:28:17.091001Z",
     "shell.execute_reply": "2020-12-25T19:28:17.090437Z"
    },
    "papermill": {
     "duration": 0.088181,
     "end_time": "2020-12-25T19:28:17.091116",
     "exception": false,
     "start_time": "2020-12-25T19:28:17.002935",
     "status": "completed"
    },
    "tags": []
   },
   "outputs": [],
   "source": [
    "# опишем несколько стандартных повторяемых функций для дальнейшей работы\n",
    "#для вмзуализации данных\n",
    "def hist_box(col, size = 5):\n",
    "    fig, (g1, g2) = plt.subplots(1, 2, figsize = (2*size,size))\n",
    "    fig.suptitle('Histogram and boxplot for {0} '.format(col), fontsize=20)\n",
    "    g1.hist(data[col], bins = 20, histtype = 'bar', align = 'mid', rwidth = 0.8, color = 'blue') # гистограмма\n",
    "    g2.boxplot(data[col], vert = False)  # выбросы\n",
    "    plt.figtext(0.5, 0, col, fontsize = 16)\n",
    "    plt.show\n",
    "    \n",
    "# Поиск выбросов\n",
    "def outliers(col):\n",
    "    median = data[col].median()\n",
    "    IQR = data[col].quantile(0.75) - data[col].quantile(0.25)\n",
    "    perc25 = data[col].quantile(0.25)\n",
    "    perc75 = data[col].quantile(0.75)\n",
    "    l = perc25 - 1.5*IQR \n",
    "    r = perc75 + 1.5*IQR\n",
    "    print(\"Для {0} IQR: {1}, \".format(col,IQR),\"Границы выбросов: [{0}, {1}].\".format(l, r))\n",
    "    print('Всего {} выбросов'.format(data[data[col] > r][col].count() + data[data[col] < l][col].count()))\n",
    "\n",
    "\n",
    "    \n",
    "#Сравнение метрик по результатам прогона модели\n",
    "metrics = ['accuracy', 'precision', 'recall', 'f1_score', 'ROC_AUC']\n",
    "summary = pd.DataFrame(index = metrics)\n",
    "def summary_metrics(summary,col,y_valid,y_pred,y_pred_probs):\n",
    "    values = [accuracy_score(y_valid,y_pred), precision_score(y_valid,y_pred), recall_score(y_valid,y_pred), f1_score(y_valid,y_pred), roc_auc_score(y_valid, y_pred_probs)]\n",
    "    summary[col] = values\n",
    "    return summary\n",
    "\n",
    "# кривая ROC_AUC\n",
    "def roc_auc_curve(y_valid, y_pred_probs):\n",
    "    fpr, tpr, threshold = roc_curve(y_valid, y_pred_probs)\n",
    "    roc_auc = roc_auc_score(y_valid, y_pred_probs)\n",
    "\n",
    "    plt.figure()\n",
    "    plt.plot([0, 1], label='Baseline', linestyle='--')\n",
    "    plt.plot(fpr, tpr, label = 'Regression')\n",
    "    plt.title('Logistic Regression ROC AUC = %0.3f' % roc_auc)\n",
    "    plt.ylabel('True Positive Rate')\n",
    "    plt.xlabel('False Positive Rate')\n",
    "    plt.legend(loc = 'lower right')\n",
    "    plt.show()\n",
    "\n",
    "# Confusion matrix\n",
    "def conf_mat(y_valid, y_pred):\n",
    "    P = np.sum(y_valid==1)\n",
    "    N = np.sum(y_valid==0)\n",
    "    print('Positive: {0}, Negative: {1}'.format(P,N))\n",
    "    \n",
    "    tn, fp, fn, tp = confusion_matrix(y_valid, y_pred).ravel()\n",
    "    print(tp, fp) \n",
    "    print(fn, tn)"
   ]
  },
  {
   "cell_type": "code",
   "execution_count": 154,
   "metadata": {
    "_cell_guid": "79c7e3d0-c299-4dcb-8224-4455121ee9b0",
    "_uuid": "d629ff2d2480ee46fbb7e2d37f6b5fab8052498a",
    "execution": {
     "iopub.execute_input": "2020-12-25T19:28:17.217443Z",
     "iopub.status.busy": "2020-12-25T19:28:17.216830Z",
     "iopub.status.idle": "2020-12-25T19:28:19.407629Z",
     "shell.execute_reply": "2020-12-25T19:28:19.406957Z"
    },
    "papermill": {
     "duration": 2.256321,
     "end_time": "2020-12-25T19:28:19.407738",
     "exception": false,
     "start_time": "2020-12-25T19:28:17.151417",
     "status": "completed"
    },
    "tags": []
   },
   "outputs": [],
   "source": [
    "RANDOM_SEED = 42\n",
    "!pip freeze > requirements.txt"
   ]
  },
  {
   "cell_type": "code",
   "execution_count": 155,
   "metadata": {
    "execution": {
     "iopub.execute_input": "2020-12-25T19:28:20.220136Z",
     "iopub.status.busy": "2020-12-25T19:28:20.219011Z",
     "iopub.status.idle": "2020-12-25T19:28:20.268403Z",
     "shell.execute_reply": "2020-12-25T19:28:20.267767Z"
    },
    "papermill": {
     "duration": 0.157625,
     "end_time": "2020-12-25T19:28:20.268537",
     "exception": false,
     "start_time": "2020-12-25T19:28:20.110912",
     "status": "completed"
    },
    "tags": []
   },
   "outputs": [
    {
     "name": "stdout",
     "output_type": "stream",
     "text": [
      "<class 'pandas.core.frame.DataFrame'>\n",
      "RangeIndex: 110148 entries, 0 to 110147\n",
      "Data columns (total 20 columns):\n",
      " #   Column            Non-Null Count   Dtype  \n",
      "---  ------            --------------   -----  \n",
      " 0   client_id         110148 non-null  int64  \n",
      " 1   app_date          110148 non-null  object \n",
      " 2   education         109670 non-null  object \n",
      " 3   sex               110148 non-null  object \n",
      " 4   age               110148 non-null  int64  \n",
      " 5   car               110148 non-null  object \n",
      " 6   car_type          110148 non-null  object \n",
      " 7   decline_app_cnt   110148 non-null  int64  \n",
      " 8   good_work         110148 non-null  int64  \n",
      " 9   score_bki         110148 non-null  float64\n",
      " 10  bki_request_cnt   110148 non-null  int64  \n",
      " 11  region_rating     110148 non-null  int64  \n",
      " 12  home_address      110148 non-null  int64  \n",
      " 13  work_address      110148 non-null  int64  \n",
      " 14  income            110148 non-null  int64  \n",
      " 15  sna               110148 non-null  int64  \n",
      " 16  first_time        110148 non-null  int64  \n",
      " 17  foreign_passport  110148 non-null  object \n",
      " 18  sample            110148 non-null  int64  \n",
      " 19  default           110148 non-null  int64  \n",
      "dtypes: float64(1), int64(13), object(6)\n",
      "memory usage: 16.8+ MB\n"
     ]
    }
   ],
   "source": [
    "#объединим тренировочный и тестовый датасеты в один для обработки признаков\n",
    "\n",
    "train['sample'] = 1 # помечаем где у нас трейн\n",
    "test['sample'] = 0 # помечаем где у нас тест\n",
    "test['default'] = 0 # пока заполняем нулями целевой признак в тестовом датасете\n",
    "\n",
    "data = test.append(train, sort=False).reset_index(drop=True) # объединяем\n",
    "data.info()"
   ]
  },
  {
   "cell_type": "markdown",
   "metadata": {
    "papermill": {
     "duration": 0.065244,
     "end_time": "2020-12-25T19:28:20.397807",
     "exception": false,
     "start_time": "2020-12-25T19:28:20.332563",
     "status": "completed"
    },
    "tags": []
   },
   "source": [
    "Описание признаков\n",
    "\n",
    "* client_id - идентификатор клиента\n",
    "* app_date - дата подачи заявки\n",
    "* education - уровень образования\n",
    "* sex - пол заемщика\n",
    "* age - возраст заемщика\n",
    "* car - флаг наличия автомобиля\n",
    "* car_type - флаг автомобиля иномарки\n",
    "* decline_app_cnt - количество отказанных прошлых заявок\n",
    "* good_work - флаг наличия “хорошей” работы\n",
    "* score_bki - скоринговый балл по данным из БКИ\n",
    "* bki_request_cnt - количество запросов в БКИ\n",
    "* region_rating - рейтинг региона\n",
    "* home_address - категоризатор домашнего адреса\n",
    "* work_address - категоризатор рабочего адреса\n",
    "* income - доход заемщика\n",
    "* sna - связь заемщика с клиентами банка\n",
    "* first_time - давность наличия информации о заемщике\n",
    "* foreign_passport - наличие загранпаспорта\n",
    "* default - флаг дефолта по кредиту"
   ]
  },
  {
   "cell_type": "markdown",
   "metadata": {
    "papermill": {
     "duration": 0.064776,
     "end_time": "2020-12-25T19:28:20.526035",
     "exception": false,
     "start_time": "2020-12-25T19:28:20.461259",
     "status": "completed"
    },
    "tags": []
   },
   "source": [
    "# EDA"
   ]
  },
  {
   "cell_type": "markdown",
   "metadata": {},
   "source": [
    "Видим, что в основном в данных нет пропусков, кроме поля education"
   ]
  },
  {
   "cell_type": "code",
   "execution_count": 156,
   "metadata": {
    "execution": {
     "iopub.execute_input": "2020-12-25T19:28:20.887587Z",
     "iopub.status.busy": "2020-12-25T19:28:20.887121Z",
     "iopub.status.idle": "2020-12-25T19:28:20.928258Z",
     "shell.execute_reply": "2020-12-25T19:28:20.928689Z"
    },
    "papermill": {
     "duration": 0.091499,
     "end_time": "2020-12-25T19:28:20.928784",
     "exception": false,
     "start_time": "2020-12-25T19:28:20.837285",
     "status": "completed"
    },
    "tags": []
   },
   "outputs": [
    {
     "data": {
      "text/plain": [
       "client_id             0\n",
       "app_date              0\n",
       "education           478\n",
       "sex                   0\n",
       "age                   0\n",
       "car                   0\n",
       "car_type              0\n",
       "decline_app_cnt       0\n",
       "good_work             0\n",
       "score_bki             0\n",
       "bki_request_cnt       0\n",
       "region_rating         0\n",
       "home_address          0\n",
       "work_address          0\n",
       "income                0\n",
       "sna                   0\n",
       "first_time            0\n",
       "foreign_passport      0\n",
       "sample                0\n",
       "default               0\n",
       "dtype: int64"
      ]
     },
     "execution_count": 156,
     "metadata": {},
     "output_type": "execute_result"
    }
   ],
   "source": [
    "data.isnull().sum()"
   ]
  },
  {
   "cell_type": "code",
   "execution_count": 157,
   "metadata": {
    "execution": {
     "iopub.execute_input": "2020-12-25T19:28:21.031828Z",
     "iopub.status.busy": "2020-12-25T19:28:21.031348Z",
     "iopub.status.idle": "2020-12-25T19:28:21.034830Z",
     "shell.execute_reply": "2020-12-25T19:28:21.034373Z"
    },
    "papermill": {
     "duration": 0.060021,
     "end_time": "2020-12-25T19:28:21.034901",
     "exception": false,
     "start_time": "2020-12-25T19:28:20.974880",
     "status": "completed"
    },
    "tags": []
   },
   "outputs": [
    {
     "name": "stdout",
     "output_type": "stream",
     "text": [
      "Пропуски составляют 0.4339615789664814 % позиций\n"
     ]
    }
   ],
   "source": [
    "#Посмотрим, сколько долю пропусков в столбце education в массиве\n",
    "\n",
    "print('Пропуски составляют {} % позиций'.format(data['education'].isnull().sum()/len(data.education)*100))\n",
    "\n"
   ]
  },
  {
   "cell_type": "code",
   "execution_count": 158,
   "metadata": {
    "execution": {
     "iopub.execute_input": "2020-12-25T19:28:21.143833Z",
     "iopub.status.busy": "2020-12-25T19:28:21.138186Z",
     "iopub.status.idle": "2020-12-25T19:28:21.150938Z",
     "shell.execute_reply": "2020-12-25T19:28:21.150589Z"
    },
    "papermill": {
     "duration": 0.069614,
     "end_time": "2020-12-25T19:28:21.151011",
     "exception": false,
     "start_time": "2020-12-25T19:28:21.081397",
     "status": "completed"
    },
    "tags": []
   },
   "outputs": [],
   "source": [
    "# Поскольку их меньше 1%, то заменим на наиболее часто втречающееся значение\n",
    "data.education = data.education.fillna(data.education.mode()[0])"
   ]
  },
  {
   "cell_type": "code",
   "execution_count": 159,
   "metadata": {
    "execution": {
     "iopub.execute_input": "2020-12-25T19:28:21.277693Z",
     "iopub.status.busy": "2020-12-25T19:28:21.276955Z",
     "iopub.status.idle": "2020-12-25T19:28:21.372940Z",
     "shell.execute_reply": "2020-12-25T19:28:21.373408Z"
    },
    "papermill": {
     "duration": 0.175888,
     "end_time": "2020-12-25T19:28:21.373604",
     "exception": false,
     "start_time": "2020-12-25T19:28:21.197716",
     "status": "completed"
    },
    "tags": []
   },
   "outputs": [
    {
     "name": "stdout",
     "output_type": "stream",
     "text": [
      "<class 'pandas.core.frame.DataFrame'>\n",
      "RangeIndex: 110148 entries, 0 to 110147\n",
      "Data columns (total 20 columns):\n",
      " #   Column            Non-Null Count   Dtype  \n",
      "---  ------            --------------   -----  \n",
      " 0   client_id         110148 non-null  int64  \n",
      " 1   app_date          110148 non-null  object \n",
      " 2   education         110148 non-null  object \n",
      " 3   sex               110148 non-null  object \n",
      " 4   age               110148 non-null  int64  \n",
      " 5   car               110148 non-null  object \n",
      " 6   car_type          110148 non-null  object \n",
      " 7   decline_app_cnt   110148 non-null  int64  \n",
      " 8   good_work         110148 non-null  int64  \n",
      " 9   score_bki         110148 non-null  float64\n",
      " 10  bki_request_cnt   110148 non-null  int64  \n",
      " 11  region_rating     110148 non-null  int64  \n",
      " 12  home_address      110148 non-null  int64  \n",
      " 13  work_address      110148 non-null  int64  \n",
      " 14  income            110148 non-null  int64  \n",
      " 15  sna               110148 non-null  int64  \n",
      " 16  first_time        110148 non-null  int64  \n",
      " 17  foreign_passport  110148 non-null  object \n",
      " 18  sample            110148 non-null  int64  \n",
      " 19  default           110148 non-null  int64  \n",
      "dtypes: float64(1), int64(13), object(6)\n",
      "memory usage: 16.8+ MB\n"
     ]
    }
   ],
   "source": [
    "data.info()"
   ]
  },
  {
   "cell_type": "code",
   "execution_count": 160,
   "metadata": {
    "execution": {
     "iopub.execute_input": "2020-12-25T19:28:21.517936Z",
     "iopub.status.busy": "2020-12-25T19:28:21.517285Z",
     "iopub.status.idle": "2020-12-25T19:28:21.545625Z",
     "shell.execute_reply": "2020-12-25T19:28:21.545097Z"
    },
    "papermill": {
     "duration": 0.107341,
     "end_time": "2020-12-25T19:28:21.545735",
     "exception": false,
     "start_time": "2020-12-25T19:28:21.438394",
     "status": "completed"
    },
    "tags": []
   },
   "outputs": [],
   "source": [
    "# преобразуем дату подачи заявки в дату\n",
    "\n",
    "from datetime import datetime\n",
    "data.app_date = pd.to_datetime(data.app_date, format='%d%b%Y')"
   ]
  },
  {
   "cell_type": "code",
   "execution_count": 161,
   "metadata": {
    "execution": {
     "iopub.execute_input": "2020-12-25T19:28:22.837682Z",
     "iopub.status.busy": "2020-12-25T19:28:22.836831Z",
     "iopub.status.idle": "2020-12-25T19:28:23.695844Z",
     "shell.execute_reply": "2020-12-25T19:28:23.694996Z"
    },
    "papermill": {
     "duration": 0.930306,
     "end_time": "2020-12-25T19:28:23.696046",
     "exception": false,
     "start_time": "2020-12-25T19:28:22.765740",
     "status": "completed"
    },
    "tags": []
   },
   "outputs": [
    {
     "data": {
      "text/plain": [
       "<matplotlib.axes._subplots.AxesSubplot at 0x211f26779c8>"
      ]
     },
     "execution_count": 161,
     "metadata": {},
     "output_type": "execute_result"
    },
    {
     "data": {
      "image/png": "[encoded data removed]",
      "text/plain": [
       "<Figure size 432x288 with 1 Axes>"
      ]
     },
     "metadata": {
      "needs_background": "light"
     },
     "output_type": "display_data"
    }
   ],
   "source": [
    "# посмотрим, есть ли какая-то тенденция по дефолтным клиентам в зависимости от месяца подачи заявления\n",
    "sns.barplot(data=data[data['sample']==1], x=data.loc[data['sample']==1,'app_date'].dt.month, y='default')"
   ]
  },
  {
   "cell_type": "code",
   "execution_count": 162,
   "metadata": {
    "execution": {
     "iopub.execute_input": "2020-12-25T19:28:24.197051Z",
     "iopub.status.busy": "2020-12-25T19:28:24.196430Z",
     "iopub.status.idle": "2020-12-25T19:28:24.207661Z",
     "shell.execute_reply": "2020-12-25T19:28:24.207042Z"
    },
    "papermill": {
     "duration": 0.082746,
     "end_time": "2020-12-25T19:28:24.207759",
     "exception": false,
     "start_time": "2020-12-25T19:28:24.125013",
     "status": "completed"
    },
    "tags": []
   },
   "outputs": [],
   "source": [
    "#добавим новый признак app_month\n",
    "data['app_month'] = data['app_date'].dt.month"
   ]
  },
  {
   "cell_type": "code",
   "execution_count": 163,
   "metadata": {
    "execution": {
     "iopub.execute_input": "2020-12-25T19:28:24.351118Z",
     "iopub.status.busy": "2020-12-25T19:28:24.350380Z",
     "iopub.status.idle": "2020-12-25T19:28:24.396405Z",
     "shell.execute_reply": "2020-12-25T19:28:24.395836Z"
    },
    "papermill": {
     "duration": 0.119011,
     "end_time": "2020-12-25T19:28:24.396541",
     "exception": false,
     "start_time": "2020-12-25T19:28:24.277530",
     "status": "completed"
    },
    "tags": []
   },
   "outputs": [
    {
     "name": "stdout",
     "output_type": "stream",
     "text": [
      "<class 'pandas.core.frame.DataFrame'>\n",
      "RangeIndex: 110148 entries, 0 to 110147\n",
      "Data columns (total 21 columns):\n",
      " #   Column            Non-Null Count   Dtype         \n",
      "---  ------            --------------   -----         \n",
      " 0   client_id         110148 non-null  int64         \n",
      " 1   app_date          110148 non-null  datetime64[ns]\n",
      " 2   education         110148 non-null  object        \n",
      " 3   sex               110148 non-null  object        \n",
      " 4   age               110148 non-null  int64         \n",
      " 5   car               110148 non-null  object        \n",
      " 6   car_type          110148 non-null  object        \n",
      " 7   decline_app_cnt   110148 non-null  int64         \n",
      " 8   good_work         110148 non-null  int64         \n",
      " 9   score_bki         110148 non-null  float64       \n",
      " 10  bki_request_cnt   110148 non-null  int64         \n",
      " 11  region_rating     110148 non-null  int64         \n",
      " 12  home_address      110148 non-null  int64         \n",
      " 13  work_address      110148 non-null  int64         \n",
      " 14  income            110148 non-null  int64         \n",
      " 15  sna               110148 non-null  int64         \n",
      " 16  first_time        110148 non-null  int64         \n",
      " 17  foreign_passport  110148 non-null  object        \n",
      " 18  sample            110148 non-null  int64         \n",
      " 19  default           110148 non-null  int64         \n",
      " 20  app_month         110148 non-null  int64         \n",
      "dtypes: datetime64[ns](1), float64(1), int64(14), object(5)\n",
      "memory usage: 17.6+ MB\n"
     ]
    }
   ],
   "source": [
    "data.info()"
   ]
  },
  {
   "cell_type": "code",
   "execution_count": 164,
   "metadata": {
    "execution": {
     "iopub.execute_input": "2020-12-25T19:28:24.550243Z",
     "iopub.status.busy": "2020-12-25T19:28:24.541667Z",
     "iopub.status.idle": "2020-12-25T19:28:24.554082Z",
     "shell.execute_reply": "2020-12-25T19:28:24.553580Z"
    },
    "papermill": {
     "duration": 0.08847,
     "end_time": "2020-12-25T19:28:24.554184",
     "exception": false,
     "start_time": "2020-12-25T19:28:24.465714",
     "status": "completed"
    },
    "tags": []
   },
   "outputs": [],
   "source": [
    "# Сам признак app_data удалим, он нам больше не понадобится:\n",
    "data = data.drop('app_date', axis=1)"
   ]
  },
  {
   "cell_type": "code",
   "execution_count": 165,
   "metadata": {
    "execution": {
     "iopub.execute_input": "2020-12-25T19:28:24.700180Z",
     "iopub.status.busy": "2020-12-25T19:28:24.699317Z",
     "iopub.status.idle": "2020-12-25T19:28:24.702220Z",
     "shell.execute_reply": "2020-12-25T19:28:24.701403Z"
    },
    "papermill": {
     "duration": 0.078223,
     "end_time": "2020-12-25T19:28:24.702351",
     "exception": false,
     "start_time": "2020-12-25T19:28:24.624128",
     "status": "completed"
    },
    "tags": []
   },
   "outputs": [],
   "source": [
    "# Объединим признаки в группы: бинарные, категориальные и числовые\n",
    "bin_cols = ['sex', 'car', 'car_type', 'good_work', 'foreign_passport']\n",
    "cat_cols = ['education', 'region_rating', 'home_address', 'work_address', 'sna', 'first_time', 'app_month']\n",
    "num_cols = ['age','decline_app_cnt','score_bki','bki_request_cnt','income'] # client_id исключили из списка"
   ]
  },
  {
   "cell_type": "markdown",
   "metadata": {
    "papermill": {
     "duration": 0.106169,
     "end_time": "2020-12-25T19:28:24.913915",
     "exception": false,
     "start_time": "2020-12-25T19:28:24.807746",
     "status": "completed"
    },
    "tags": []
   },
   "source": [
    "### Обработка числовых признаков"
   ]
  },
  {
   "cell_type": "code",
   "execution_count": 166,
   "metadata": {
    "execution": {
     "iopub.execute_input": "2020-12-25T19:28:25.139721Z",
     "iopub.status.busy": "2020-12-25T19:28:25.136996Z",
     "iopub.status.idle": "2020-12-25T19:28:25.414041Z",
     "shell.execute_reply": "2020-12-25T19:28:25.413512Z"
    },
    "papermill": {
     "duration": 0.395518,
     "end_time": "2020-12-25T19:28:25.414145",
     "exception": false,
     "start_time": "2020-12-25T19:28:25.018627",
     "status": "completed"
    },
    "tags": []
   },
   "outputs": [
    {
     "data": {
      "image/png": "[encoded data removed]",
      "text/plain": [
       "<Figure size 720x360 with 2 Axes>"
      ]
     },
     "metadata": {
      "needs_background": "light"
     },
     "output_type": "display_data"
    }
   ],
   "source": [
    "# столбец Age\n",
    "hist_box('age')"
   ]
  },
  {
   "cell_type": "code",
   "execution_count": 167,
   "metadata": {
    "execution": {
     "iopub.execute_input": "2020-12-25T19:28:25.560973Z",
     "iopub.status.busy": "2020-12-25T19:28:25.560330Z",
     "iopub.status.idle": "2020-12-25T19:28:25.833419Z",
     "shell.execute_reply": "2020-12-25T19:28:25.832828Z"
    },
    "papermill": {
     "duration": 0.348641,
     "end_time": "2020-12-25T19:28:25.833548",
     "exception": false,
     "start_time": "2020-12-25T19:28:25.484907",
     "status": "completed"
    },
    "tags": []
   },
   "outputs": [
    {
     "data": {
      "image/png": "[encoded data removed]",
      "text/plain": [
       "<Figure size 720x360 with 2 Axes>"
      ]
     },
     "metadata": {
      "needs_background": "light"
     },
     "output_type": "display_data"
    }
   ],
   "source": [
    "#Попробуем прологарифмировать:\n",
    " \n",
    "data['age_log'] = np.log(data['age'] + 1)\n",
    "hist_box('age_log')"
   ]
  },
  {
   "cell_type": "code",
   "execution_count": 168,
   "metadata": {
    "execution": {
     "iopub.execute_input": "2020-12-25T19:28:25.982373Z",
     "iopub.status.busy": "2020-12-25T19:28:25.981390Z",
     "iopub.status.idle": "2020-12-25T19:28:25.988370Z",
     "shell.execute_reply": "2020-12-25T19:28:25.987750Z"
    },
    "papermill": {
     "duration": 0.0836,
     "end_time": "2020-12-25T19:28:25.988500",
     "exception": false,
     "start_time": "2020-12-25T19:28:25.904900",
     "status": "completed"
    },
    "tags": []
   },
   "outputs": [],
   "source": [
    "#Распеделдение стало более нормальным\n",
    "\n",
    "data['age'] = data['age_log']"
   ]
  },
  {
   "cell_type": "code",
   "execution_count": 169,
   "metadata": {
    "execution": {
     "iopub.execute_input": "2020-12-25T19:28:26.148836Z",
     "iopub.status.busy": "2020-12-25T19:28:26.138361Z",
     "iopub.status.idle": "2020-12-25T19:28:26.450541Z",
     "shell.execute_reply": "2020-12-25T19:28:26.449960Z"
    },
    "papermill": {
     "duration": 0.390089,
     "end_time": "2020-12-25T19:28:26.450655",
     "exception": false,
     "start_time": "2020-12-25T19:28:26.060566",
     "status": "completed"
    },
    "tags": []
   },
   "outputs": [
    {
     "data": {
      "image/png": "[encoded data removed]",
      "text/plain": [
       "<Figure size 720x360 with 2 Axes>"
      ]
     },
     "metadata": {
      "needs_background": "light"
     },
     "output_type": "display_data"
    }
   ],
   "source": [
    "# посмотрим на decline_app_cnt\n",
    "hist_box('decline_app_cnt')"
   ]
  },
  {
   "cell_type": "markdown",
   "metadata": {},
   "source": [
    "Распределние смещенное, много выбросов. Посмотрим на значения"
   ]
  },
  {
   "cell_type": "code",
   "execution_count": 170,
   "metadata": {
    "execution": {
     "iopub.execute_input": "2020-12-25T19:28:26.600184Z",
     "iopub.status.busy": "2020-12-25T19:28:26.599309Z",
     "iopub.status.idle": "2020-12-25T19:28:26.608839Z",
     "shell.execute_reply": "2020-12-25T19:28:26.608206Z"
    },
    "papermill": {
     "duration": 0.085452,
     "end_time": "2020-12-25T19:28:26.608943",
     "exception": false,
     "start_time": "2020-12-25T19:28:26.523491",
     "status": "completed"
    },
    "tags": []
   },
   "outputs": [
    {
     "data": {
      "text/plain": [
       "0     0.830437\n",
       "1     0.113484\n",
       "2     0.032883\n",
       "3     0.012392\n",
       "4     0.005502\n",
       "5     0.002315\n",
       "6     0.001416\n",
       "7     0.000527\n",
       "8     0.000336\n",
       "9     0.000263\n",
       "10    0.000145\n",
       "11    0.000091\n",
       "12    0.000045\n",
       "13    0.000036\n",
       "14    0.000027\n",
       "16    0.000027\n",
       "30    0.000009\n",
       "15    0.000009\n",
       "19    0.000009\n",
       "20    0.000009\n",
       "21    0.000009\n",
       "22    0.000009\n",
       "24    0.000009\n",
       "33    0.000009\n",
       "Name: decline_app_cnt, dtype: float64"
      ]
     },
     "execution_count": 170,
     "metadata": {},
     "output_type": "execute_result"
    }
   ],
   "source": [
    "data.decline_app_cnt.value_counts(normalize=True)"
   ]
  },
  {
   "cell_type": "code",
   "execution_count": 171,
   "metadata": {
    "execution": {
     "iopub.execute_input": "2020-12-25T19:28:26.771147Z",
     "iopub.status.busy": "2020-12-25T19:28:26.758813Z",
     "iopub.status.idle": "2020-12-25T19:28:26.815897Z",
     "shell.execute_reply": "2020-12-25T19:28:26.816419Z"
    },
    "papermill": {
     "duration": 0.134984,
     "end_time": "2020-12-25T19:28:26.816576",
     "exception": false,
     "start_time": "2020-12-25T19:28:26.681592",
     "status": "completed"
    },
    "tags": []
   },
   "outputs": [],
   "source": [
    "#видим, что основная часть массива без отказов - это значение 0.  \n",
    "#Можно перенести этот признак в разряд категориальных, сделав следующую категоризацию:\n",
    "#0 : 0; 1-2 : 1; 3 и более : 2\n",
    "data.decline_app_cnt = data.decline_app_cnt.apply(lambda x: 2 if x >=3 else (1 if x>0 else 0))"
   ]
  },
  {
   "cell_type": "code",
   "execution_count": 172,
   "metadata": {
    "execution": {
     "iopub.execute_input": "2020-12-25T19:28:26.969450Z",
     "iopub.status.busy": "2020-12-25T19:28:26.968604Z",
     "iopub.status.idle": "2020-12-25T19:28:26.976921Z",
     "shell.execute_reply": "2020-12-25T19:28:26.977380Z"
    },
    "papermill": {
     "duration": 0.086226,
     "end_time": "2020-12-25T19:28:26.977538",
     "exception": false,
     "start_time": "2020-12-25T19:28:26.891312",
     "status": "completed"
    },
    "tags": []
   },
   "outputs": [
    {
     "data": {
      "text/plain": [
       "0    0.830437\n",
       "1    0.146367\n",
       "2    0.023196\n",
       "Name: decline_app_cnt, dtype: float64"
      ]
     },
     "execution_count": 172,
     "metadata": {},
     "output_type": "execute_result"
    }
   ],
   "source": [
    "data.decline_app_cnt.value_counts(normalize=True)"
   ]
  },
  {
   "cell_type": "code",
   "execution_count": 173,
   "metadata": {
    "execution": {
     "iopub.execute_input": "2020-12-25T19:28:27.128252Z",
     "iopub.status.busy": "2020-12-25T19:28:27.127681Z",
     "iopub.status.idle": "2020-12-25T19:28:27.130912Z",
     "shell.execute_reply": "2020-12-25T19:28:27.130273Z"
    },
    "papermill": {
     "duration": 0.079737,
     "end_time": "2020-12-25T19:28:27.131012",
     "exception": false,
     "start_time": "2020-12-25T19:28:27.051275",
     "status": "completed"
    },
    "tags": []
   },
   "outputs": [],
   "source": [
    "cat_cols.append('decline_app_cnt')\n",
    "num_cols.remove('decline_app_cnt')"
   ]
  },
  {
   "cell_type": "code",
   "execution_count": 174,
   "metadata": {
    "execution": {
     "iopub.execute_input": "2020-12-25T19:28:27.283269Z",
     "iopub.status.busy": "2020-12-25T19:28:27.282678Z",
     "iopub.status.idle": "2020-12-25T19:28:27.636898Z",
     "shell.execute_reply": "2020-12-25T19:28:27.637739Z"
    },
    "papermill": {
     "duration": 0.434094,
     "end_time": "2020-12-25T19:28:27.637953",
     "exception": false,
     "start_time": "2020-12-25T19:28:27.203859",
     "status": "completed"
    },
    "tags": []
   },
   "outputs": [
    {
     "data": {
      "image/png": "[encoded data removed]",
      "text/plain": [
       "<Figure size 720x360 with 2 Axes>"
      ]
     },
     "metadata": {
      "needs_background": "light"
     },
     "output_type": "display_data"
    }
   ],
   "source": [
    "#смотрим следующий признак: score_bki\n",
    "hist_box('score_bki')"
   ]
  },
  {
   "cell_type": "code",
   "execution_count": 175,
   "metadata": {
    "execution": {
     "iopub.execute_input": "2020-12-25T19:28:27.843572Z",
     "iopub.status.busy": "2020-12-25T19:28:27.842447Z",
     "iopub.status.idle": "2020-12-25T19:28:27.867008Z",
     "shell.execute_reply": "2020-12-25T19:28:27.867678Z"
    },
    "papermill": {
     "duration": 0.106706,
     "end_time": "2020-12-25T19:28:27.867861",
     "exception": false,
     "start_time": "2020-12-25T19:28:27.761155",
     "status": "completed"
    },
    "tags": []
   },
   "outputs": [
    {
     "name": "stdout",
     "output_type": "stream",
     "text": [
      "Для score_bki IQR: 0.6925455175000004,  Границы выбросов: [-3.299251946250001, -0.5290698762499992].\n",
      "Всего 518 выбросов\n"
     ]
    }
   ],
   "source": [
    "#распределение нормальное, посмотрим выбросы\n",
    "outliers('score_bki')"
   ]
  },
  {
   "cell_type": "markdown",
   "metadata": {
    "execution": {
     "iopub.execute_input": "2020-12-25T19:28:28.208757Z",
     "iopub.status.busy": "2020-12-25T19:28:28.207966Z",
     "iopub.status.idle": "2020-12-25T19:28:28.507573Z",
     "shell.execute_reply": "2020-12-25T19:28:28.508181Z"
    },
    "papermill": {
     "duration": 0.386921,
     "end_time": "2020-12-25T19:28:28.508315",
     "exception": false,
     "start_time": "2020-12-25T19:28:28.121394",
     "status": "completed"
    },
    "tags": []
   },
   "source": [
    "В случае с признаком bki_score выбросы могут быть маркером дефлтности клиента. Оставим их"
   ]
  },
  {
   "cell_type": "code",
   "execution_count": 176,
   "metadata": {
    "execution": {
     "iopub.execute_input": "2020-12-25T19:28:29.011363Z",
     "iopub.status.busy": "2020-12-25T19:28:29.010501Z",
     "iopub.status.idle": "2020-12-25T19:28:29.386152Z",
     "shell.execute_reply": "2020-12-25T19:28:29.386654Z"
    },
    "papermill": {
     "duration": 0.456765,
     "end_time": "2020-12-25T19:28:29.386788",
     "exception": false,
     "start_time": "2020-12-25T19:28:28.930023",
     "status": "completed"
    },
    "tags": []
   },
   "outputs": [
    {
     "data": {
      "image/png": "[encoded data removed]",
      "text/plain": [
       "<Figure size 720x360 with 2 Axes>"
      ]
     },
     "metadata": {
      "needs_background": "light"
     },
     "output_type": "display_data"
    }
   ],
   "source": [
    "#У нас остались 'bki_request_cnt','income'. Смотрим на bki_request_cnt\n",
    "hist_box('bki_request_cnt')"
   ]
  },
  {
   "cell_type": "code",
   "execution_count": 177,
   "metadata": {
    "execution": {
     "iopub.execute_input": "2020-12-25T19:28:29.548377Z",
     "iopub.status.busy": "2020-12-25T19:28:29.547554Z",
     "iopub.status.idle": "2020-12-25T19:28:29.568408Z",
     "shell.execute_reply": "2020-12-25T19:28:29.569287Z"
    },
    "papermill": {
     "duration": 0.104484,
     "end_time": "2020-12-25T19:28:29.569509",
     "exception": false,
     "start_time": "2020-12-25T19:28:29.465025",
     "status": "completed"
    },
    "tags": []
   },
   "outputs": [
    {
     "name": "stdout",
     "output_type": "stream",
     "text": [
      "Для bki_request_cnt IQR: 3.0,  Границы выбросов: [-4.5, 7.5].\n",
      "Всего 2636 выбросов\n"
     ]
    }
   ],
   "source": [
    "outliers('bki_request_cnt')"
   ]
  },
  {
   "cell_type": "code",
   "execution_count": 178,
   "metadata": {},
   "outputs": [],
   "source": [
    "#выбросов уже больше, распределение ненормальное - попробуем прологарифмировать"
   ]
  },
  {
   "cell_type": "code",
   "execution_count": 179,
   "metadata": {
    "execution": {
     "iopub.execute_input": "2020-12-25T19:28:29.810747Z",
     "iopub.status.busy": "2020-12-25T19:28:29.810122Z",
     "iopub.status.idle": "2020-12-25T19:28:29.822826Z",
     "shell.execute_reply": "2020-12-25T19:28:29.822283Z"
    },
    "papermill": {
     "duration": 0.135239,
     "end_time": "2020-12-25T19:28:29.822945",
     "exception": false,
     "start_time": "2020-12-25T19:28:29.687706",
     "status": "completed"
    },
    "tags": []
   },
   "outputs": [],
   "source": [
    "data['bki_request_cnt_log'] = np.log(data['bki_request_cnt'] + 1)"
   ]
  },
  {
   "cell_type": "code",
   "execution_count": 180,
   "metadata": {
    "execution": {
     "iopub.execute_input": "2020-12-25T19:28:29.987692Z",
     "iopub.status.busy": "2020-12-25T19:28:29.986770Z",
     "iopub.status.idle": "2020-12-25T19:28:30.010368Z",
     "shell.execute_reply": "2020-12-25T19:28:30.011252Z"
    },
    "papermill": {
     "duration": 0.108449,
     "end_time": "2020-12-25T19:28:30.011407",
     "exception": false,
     "start_time": "2020-12-25T19:28:29.902958",
     "status": "completed"
    },
    "tags": []
   },
   "outputs": [
    {
     "name": "stdout",
     "output_type": "stream",
     "text": [
      "Для bki_request_cnt_log IQR: 1.3862943611198906,  Границы выбросов: [-2.0794415416798357, 3.465735902799726].\n",
      "Всего 15 выбросов\n"
     ]
    }
   ],
   "source": [
    "outliers('bki_request_cnt_log')"
   ]
  },
  {
   "cell_type": "code",
   "execution_count": 181,
   "metadata": {
    "execution": {
     "iopub.execute_input": "2020-12-25T19:28:30.189165Z",
     "iopub.status.busy": "2020-12-25T19:28:30.186507Z",
     "iopub.status.idle": "2020-12-25T19:28:30.480851Z",
     "shell.execute_reply": "2020-12-25T19:28:30.480205Z"
    },
    "papermill": {
     "duration": 0.390064,
     "end_time": "2020-12-25T19:28:30.480973",
     "exception": false,
     "start_time": "2020-12-25T19:28:30.090909",
     "status": "completed"
    },
    "tags": []
   },
   "outputs": [
    {
     "data": {
      "image/png": "[encoded data removed]",
      "text/plain": [
       "<Figure size 720x360 with 2 Axes>"
      ]
     },
     "metadata": {
      "needs_background": "light"
     },
     "output_type": "display_data"
    }
   ],
   "source": [
    "hist_box('bki_request_cnt_log')"
   ]
  },
  {
   "cell_type": "markdown",
   "metadata": {
    "papermill": {
     "duration": 0.082156,
     "end_time": "2020-12-25T19:28:30.645248",
     "exception": false,
     "start_time": "2020-12-25T19:28:30.563092",
     "status": "completed"
    },
    "tags": []
   },
   "source": [
    "Количество выбросов сильно сократилост. Оставляем логарифмированные данные\n"
   ]
  },
  {
   "cell_type": "code",
   "execution_count": 182,
   "metadata": {
    "execution": {
     "iopub.execute_input": "2020-12-25T19:28:30.814500Z",
     "iopub.status.busy": "2020-12-25T19:28:30.813550Z",
     "iopub.status.idle": "2020-12-25T19:28:30.820939Z",
     "shell.execute_reply": "2020-12-25T19:28:30.820369Z"
    },
    "papermill": {
     "duration": 0.093364,
     "end_time": "2020-12-25T19:28:30.821049",
     "exception": false,
     "start_time": "2020-12-25T19:28:30.727685",
     "status": "completed"
    },
    "tags": []
   },
   "outputs": [],
   "source": [
    "data['bki_request_cnt'] = data['bki_request_cnt_log']"
   ]
  },
  {
   "cell_type": "code",
   "execution_count": 183,
   "metadata": {
    "execution": {
     "iopub.execute_input": "2020-12-25T19:28:30.992960Z",
     "iopub.status.busy": "2020-12-25T19:28:30.987510Z",
     "iopub.status.idle": "2020-12-25T19:28:31.385546Z",
     "shell.execute_reply": "2020-12-25T19:28:31.384925Z"
    },
    "papermill": {
     "duration": 0.482762,
     "end_time": "2020-12-25T19:28:31.385649",
     "exception": false,
     "start_time": "2020-12-25T19:28:30.902887",
     "status": "completed"
    },
    "tags": []
   },
   "outputs": [
    {
     "data": {
      "image/png": "[encoded data removed]",
      "text/plain": [
       "<Figure size 720x360 with 2 Axes>"
      ]
     },
     "metadata": {
      "needs_background": "light"
     },
     "output_type": "display_data"
    }
   ],
   "source": [
    "hist_box('income')"
   ]
  },
  {
   "cell_type": "code",
   "execution_count": 184,
   "metadata": {
    "execution": {
     "iopub.execute_input": "2020-12-25T19:28:31.554379Z",
     "iopub.status.busy": "2020-12-25T19:28:31.553775Z",
     "iopub.status.idle": "2020-12-25T19:28:31.578566Z",
     "shell.execute_reply": "2020-12-25T19:28:31.579165Z"
    },
    "papermill": {
     "duration": 0.113071,
     "end_time": "2020-12-25T19:28:31.579311",
     "exception": false,
     "start_time": "2020-12-25T19:28:31.466240",
     "status": "completed"
    },
    "tags": []
   },
   "outputs": [
    {
     "name": "stdout",
     "output_type": "stream",
     "text": [
      "Для income IQR: 28000.0,  Границы выбросов: [-22000.0, 90000.0].\n",
      "Всего 7000 выбросов\n"
     ]
    }
   ],
   "source": [
    "outliers('income')"
   ]
  },
  {
   "cell_type": "code",
   "execution_count": 185,
   "metadata": {
    "execution": {
     "iopub.execute_input": "2020-12-25T19:28:31.747649Z",
     "iopub.status.busy": "2020-12-25T19:28:31.746862Z",
     "iopub.status.idle": "2020-12-25T19:28:31.754552Z",
     "shell.execute_reply": "2020-12-25T19:28:31.755061Z"
    },
    "papermill": {
     "duration": 0.094795,
     "end_time": "2020-12-25T19:28:31.755195",
     "exception": false,
     "start_time": "2020-12-25T19:28:31.660400",
     "status": "completed"
    },
    "tags": []
   },
   "outputs": [],
   "source": [
    "data['income_log'] = np.log(data['income'] + 1)"
   ]
  },
  {
   "cell_type": "code",
   "execution_count": 186,
   "metadata": {
    "execution": {
     "iopub.execute_input": "2020-12-25T19:28:31.923280Z",
     "iopub.status.busy": "2020-12-25T19:28:31.922404Z",
     "iopub.status.idle": "2020-12-25T19:28:32.223579Z",
     "shell.execute_reply": "2020-12-25T19:28:32.222758Z"
    },
    "papermill": {
     "duration": 0.386355,
     "end_time": "2020-12-25T19:28:32.223683",
     "exception": false,
     "start_time": "2020-12-25T19:28:31.837328",
     "status": "completed"
    },
    "tags": []
   },
   "outputs": [
    {
     "data": {
      "image/png": "[encoded data removed]",
      "text/plain": [
       "<Figure size 720x360 with 2 Axes>"
      ]
     },
     "metadata": {
      "needs_background": "light"
     },
     "output_type": "display_data"
    }
   ],
   "source": [
    "hist_box('income_log')"
   ]
  },
  {
   "cell_type": "code",
   "execution_count": 187,
   "metadata": {
    "execution": {
     "iopub.execute_input": "2020-12-25T19:28:32.398196Z",
     "iopub.status.busy": "2020-12-25T19:28:32.397607Z",
     "iopub.status.idle": "2020-12-25T19:28:32.422507Z",
     "shell.execute_reply": "2020-12-25T19:28:32.421611Z"
    },
    "papermill": {
     "duration": 0.113133,
     "end_time": "2020-12-25T19:28:32.422652",
     "exception": false,
     "start_time": "2020-12-25T19:28:32.309519",
     "status": "completed"
    },
    "tags": []
   },
   "outputs": [
    {
     "name": "stdout",
     "output_type": "stream",
     "text": [
      "Для income_log IQR: 0.8754395717201806,  Границы выбросов: [8.590378193705899, 12.092136480586621].\n",
      "Всего 2609 выбросов\n"
     ]
    }
   ],
   "source": [
    "outliers('income_log')"
   ]
  },
  {
   "cell_type": "markdown",
   "metadata": {
    "papermill": {
     "duration": 0.123126,
     "end_time": "2020-12-25T19:28:32.669738",
     "exception": false,
     "start_time": "2020-12-25T19:28:32.546612",
     "status": "completed"
    },
    "tags": []
   },
   "source": [
    "Логарифмированные данные выглядят лучше, оставим их"
   ]
  },
  {
   "cell_type": "code",
   "execution_count": 188,
   "metadata": {
    "execution": {
     "iopub.execute_input": "2020-12-25T19:28:32.923340Z",
     "iopub.status.busy": "2020-12-25T19:28:32.922424Z",
     "iopub.status.idle": "2020-12-25T19:28:32.930210Z",
     "shell.execute_reply": "2020-12-25T19:28:32.928632Z"
    },
    "papermill": {
     "duration": 0.137368,
     "end_time": "2020-12-25T19:28:32.930396",
     "exception": false,
     "start_time": "2020-12-25T19:28:32.793028",
     "status": "completed"
    },
    "tags": []
   },
   "outputs": [],
   "source": [
    "data['income'] = data['income_log']"
   ]
  },
  {
   "cell_type": "code",
   "execution_count": 189,
   "metadata": {
    "execution": {
     "iopub.execute_input": "2020-12-25T19:28:33.186644Z",
     "iopub.status.busy": "2020-12-25T19:28:33.185841Z",
     "iopub.status.idle": "2020-12-25T19:28:33.384045Z",
     "shell.execute_reply": "2020-12-25T19:28:33.384748Z"
    },
    "papermill": {
     "duration": 0.328481,
     "end_time": "2020-12-25T19:28:33.384903",
     "exception": false,
     "start_time": "2020-12-25T19:28:33.056422",
     "status": "completed"
    },
    "tags": []
   },
   "outputs": [
    {
     "data": {
      "text/plain": [
       "<matplotlib.axes._subplots.AxesSubplot at 0x211f269a688>"
      ]
     },
     "execution_count": 189,
     "metadata": {},
     "output_type": "execute_result"
    },
    {
     "data": {
      "image/png": "[encoded data removed]",
      "text/plain": [
       "<Figure size 432x288 with 2 Axes>"
      ]
     },
     "metadata": {
      "needs_background": "light"
     },
     "output_type": "display_data"
    }
   ],
   "source": [
    "#теперь посмотрим на корреляцию числовых признаков\n",
    "sns.heatmap(data[num_cols].corr().abs(), vmin=0, vmax=1)"
   ]
  },
  {
   "cell_type": "code",
   "execution_count": 190,
   "metadata": {
    "execution": {
     "iopub.execute_input": "2020-12-25T19:28:33.642028Z",
     "iopub.status.busy": "2020-12-25T19:28:33.640902Z",
     "iopub.status.idle": "2020-12-25T19:28:33.789791Z",
     "shell.execute_reply": "2020-12-25T19:28:33.790497Z"
    },
    "papermill": {
     "duration": 0.279273,
     "end_time": "2020-12-25T19:28:33.790675",
     "exception": false,
     "start_time": "2020-12-25T19:28:33.511402",
     "status": "completed"
    },
    "tags": []
   },
   "outputs": [
    {
     "data": {
      "text/plain": [
       "<matplotlib.axes._subplots.AxesSubplot at 0x211f397a588>"
      ]
     },
     "execution_count": 190,
     "metadata": {},
     "output_type": "execute_result"
    },
    {
     "data": {
      "image/png": "[encoded data removed]",
      "text/plain": [
       "<Figure size 432x288 with 1 Axes>"
      ]
     },
     "metadata": {
      "needs_background": "light"
     },
     "output_type": "display_data"
    }
   ],
   "source": [
    "#Сильно выраженной корреляции между какими-либо признаками нет.\n",
    "# посмотрим значимость признаков\n",
    "\n",
    "imp_num = Series(f_classif(data[data['sample']==1][num_cols], data[data['sample']==1]['default'])[0], index = num_cols)\n",
    "imp_num.sort_values(inplace = True)\n",
    "imp_num.plot(kind = 'barh')"
   ]
  },
  {
   "cell_type": "code",
   "execution_count": 191,
   "metadata": {
    "execution": {
     "iopub.execute_input": "2020-12-25T19:28:34.063791Z",
     "iopub.status.busy": "2020-12-25T19:28:34.062944Z",
     "iopub.status.idle": "2020-12-25T19:28:34.067221Z",
     "shell.execute_reply": "2020-12-25T19:28:34.066522Z"
    },
    "papermill": {
     "duration": 0.147408,
     "end_time": "2020-12-25T19:28:34.067347",
     "exception": false,
     "start_time": "2020-12-25T19:28:33.919939",
     "status": "completed"
    },
    "tags": []
   },
   "outputs": [],
   "source": [
    "# удалим не нужные стоблцы\n",
    "data = data.drop(['age_log', 'bki_request_cnt_log', 'income_log'], axis = 1)"
   ]
  },
  {
   "cell_type": "markdown",
   "metadata": {
    "papermill": {
     "duration": 0.130706,
     "end_time": "2020-12-25T19:28:34.327786",
     "exception": false,
     "start_time": "2020-12-25T19:28:34.197080",
     "status": "completed"
    },
    "tags": []
   },
   "source": [
    "### Обработка бинарных признаков"
   ]
  },
  {
   "cell_type": "code",
   "execution_count": 192,
   "metadata": {
    "execution": {
     "iopub.execute_input": "2020-12-25T19:28:34.623112Z",
     "iopub.status.busy": "2020-12-25T19:28:34.609586Z",
     "iopub.status.idle": "2020-12-25T19:28:34.726165Z",
     "shell.execute_reply": "2020-12-25T19:28:34.725552Z"
    },
    "papermill": {
     "duration": 0.269065,
     "end_time": "2020-12-25T19:28:34.726273",
     "exception": false,
     "start_time": "2020-12-25T19:28:34.457208",
     "status": "completed"
    },
    "tags": []
   },
   "outputs": [
    {
     "data": {
      "text/html": [
       "<div>\n",
       "<style scoped>\n",
       "    .dataframe tbody tr th:only-of-type {\n",
       "        vertical-align: middle;\n",
       "    }\n",
       "\n",
       "    .dataframe tbody tr th {\n",
       "        vertical-align: top;\n",
       "    }\n",
       "\n",
       "    .dataframe thead th {\n",
       "        text-align: right;\n",
       "    }\n",
       "</style>\n",
       "<table border=\"1\" class=\"dataframe\">\n",
       "  <thead>\n",
       "    <tr style=\"text-align: right;\">\n",
       "      <th></th>\n",
       "      <th>client_id</th>\n",
       "      <th>education</th>\n",
       "      <th>sex</th>\n",
       "      <th>age</th>\n",
       "      <th>car</th>\n",
       "      <th>car_type</th>\n",
       "      <th>decline_app_cnt</th>\n",
       "      <th>good_work</th>\n",
       "      <th>score_bki</th>\n",
       "      <th>bki_request_cnt</th>\n",
       "      <th>region_rating</th>\n",
       "      <th>home_address</th>\n",
       "      <th>work_address</th>\n",
       "      <th>income</th>\n",
       "      <th>sna</th>\n",
       "      <th>first_time</th>\n",
       "      <th>foreign_passport</th>\n",
       "      <th>sample</th>\n",
       "      <th>default</th>\n",
       "      <th>app_month</th>\n",
       "    </tr>\n",
       "  </thead>\n",
       "  <tbody>\n",
       "    <tr>\n",
       "      <th>0</th>\n",
       "      <td>74835</td>\n",
       "      <td>GRD</td>\n",
       "      <td>1</td>\n",
       "      <td>3.401197</td>\n",
       "      <td>1</td>\n",
       "      <td>1</td>\n",
       "      <td>0</td>\n",
       "      <td>0</td>\n",
       "      <td>-2.271884</td>\n",
       "      <td>1.386294</td>\n",
       "      <td>50</td>\n",
       "      <td>1</td>\n",
       "      <td>2</td>\n",
       "      <td>10.819798</td>\n",
       "      <td>1</td>\n",
       "      <td>4</td>\n",
       "      <td>0</td>\n",
       "      <td>0</td>\n",
       "      <td>0</td>\n",
       "      <td>3</td>\n",
       "    </tr>\n",
       "    <tr>\n",
       "      <th>1</th>\n",
       "      <td>17527</td>\n",
       "      <td>SCH</td>\n",
       "      <td>0</td>\n",
       "      <td>3.688879</td>\n",
       "      <td>0</td>\n",
       "      <td>0</td>\n",
       "      <td>2</td>\n",
       "      <td>0</td>\n",
       "      <td>-1.504999</td>\n",
       "      <td>1.098612</td>\n",
       "      <td>50</td>\n",
       "      <td>1</td>\n",
       "      <td>2</td>\n",
       "      <td>8.517393</td>\n",
       "      <td>4</td>\n",
       "      <td>3</td>\n",
       "      <td>0</td>\n",
       "      <td>0</td>\n",
       "      <td>0</td>\n",
       "      <td>1</td>\n",
       "    </tr>\n",
       "    <tr>\n",
       "      <th>2</th>\n",
       "      <td>75683</td>\n",
       "      <td>UGR</td>\n",
       "      <td>1</td>\n",
       "      <td>3.931826</td>\n",
       "      <td>1</td>\n",
       "      <td>1</td>\n",
       "      <td>0</td>\n",
       "      <td>0</td>\n",
       "      <td>-1.691339</td>\n",
       "      <td>0.693147</td>\n",
       "      <td>50</td>\n",
       "      <td>1</td>\n",
       "      <td>2</td>\n",
       "      <td>10.308986</td>\n",
       "      <td>1</td>\n",
       "      <td>3</td>\n",
       "      <td>1</td>\n",
       "      <td>0</td>\n",
       "      <td>0</td>\n",
       "      <td>3</td>\n",
       "    </tr>\n",
       "    <tr>\n",
       "      <th>3</th>\n",
       "      <td>26883</td>\n",
       "      <td>SCH</td>\n",
       "      <td>1</td>\n",
       "      <td>4.043051</td>\n",
       "      <td>0</td>\n",
       "      <td>0</td>\n",
       "      <td>0</td>\n",
       "      <td>0</td>\n",
       "      <td>-2.374182</td>\n",
       "      <td>0.693147</td>\n",
       "      <td>40</td>\n",
       "      <td>1</td>\n",
       "      <td>2</td>\n",
       "      <td>9.741027</td>\n",
       "      <td>1</td>\n",
       "      <td>3</td>\n",
       "      <td>0</td>\n",
       "      <td>0</td>\n",
       "      <td>0</td>\n",
       "      <td>2</td>\n",
       "    </tr>\n",
       "    <tr>\n",
       "      <th>4</th>\n",
       "      <td>28862</td>\n",
       "      <td>GRD</td>\n",
       "      <td>0</td>\n",
       "      <td>3.663562</td>\n",
       "      <td>0</td>\n",
       "      <td>0</td>\n",
       "      <td>0</td>\n",
       "      <td>0</td>\n",
       "      <td>-2.487502</td>\n",
       "      <td>0.000000</td>\n",
       "      <td>80</td>\n",
       "      <td>2</td>\n",
       "      <td>3</td>\n",
       "      <td>11.695255</td>\n",
       "      <td>1</td>\n",
       "      <td>3</td>\n",
       "      <td>0</td>\n",
       "      <td>0</td>\n",
       "      <td>0</td>\n",
       "      <td>2</td>\n",
       "    </tr>\n",
       "  </tbody>\n",
       "</table>\n",
       "</div>"
      ],
      "text/plain": [
       "   client_id education  sex       age  car  car_type  decline_app_cnt  \\\n",
       "0      74835       GRD    1  3.401197    1         1                0   \n",
       "1      17527       SCH    0  3.688879    0         0                2   \n",
       "2      75683       UGR    1  3.931826    1         1                0   \n",
       "3      26883       SCH    1  4.043051    0         0                0   \n",
       "4      28862       GRD    0  3.663562    0         0                0   \n",
       "\n",
       "   good_work  score_bki  bki_request_cnt  region_rating  home_address  \\\n",
       "0          0  -2.271884         1.386294             50             1   \n",
       "1          0  -1.504999         1.098612             50             1   \n",
       "2          0  -1.691339         0.693147             50             1   \n",
       "3          0  -2.374182         0.693147             40             1   \n",
       "4          0  -2.487502         0.000000             80             2   \n",
       "\n",
       "   work_address     income  sna  first_time  foreign_passport  sample  \\\n",
       "0             2  10.819798    1           4                 0       0   \n",
       "1             2   8.517393    4           3                 0       0   \n",
       "2             2  10.308986    1           3                 1       0   \n",
       "3             2   9.741027    1           3                 0       0   \n",
       "4             3  11.695255    1           3                 0       0   \n",
       "\n",
       "   default  app_month  \n",
       "0        0          3  \n",
       "1        0          1  \n",
       "2        0          3  \n",
       "3        0          2  \n",
       "4        0          2  "
      ]
     },
     "execution_count": 192,
     "metadata": {},
     "output_type": "execute_result"
    }
   ],
   "source": [
    "# переведем бинарные признаки в числовые значения\n",
    "label_encoder = LabelEncoder()\n",
    "\n",
    "for column in bin_cols:\n",
    "    data[column] = label_encoder.fit_transform(data[column])\n",
    "    \n",
    "# убедимся в преобразовании    \n",
    "data.head()"
   ]
  },
  {
   "cell_type": "markdown",
   "metadata": {
    "papermill": {
     "duration": 0.086241,
     "end_time": "2020-12-25T19:28:34.898659",
     "exception": false,
     "start_time": "2020-12-25T19:28:34.812418",
     "status": "completed"
    },
    "tags": []
   },
   "source": [
    "### Обработка категориальных признаков"
   ]
  },
  {
   "cell_type": "code",
   "execution_count": 193,
   "metadata": {
    "execution": {
     "iopub.execute_input": "2020-12-25T19:28:35.091550Z",
     "iopub.status.busy": "2020-12-25T19:28:35.086326Z",
     "iopub.status.idle": "2020-12-25T19:28:40.658353Z",
     "shell.execute_reply": "2020-12-25T19:28:40.657799Z"
    },
    "papermill": {
     "duration": 5.672543,
     "end_time": "2020-12-25T19:28:40.658482",
     "exception": false,
     "start_time": "2020-12-25T19:28:34.985939",
     "status": "completed"
    },
    "tags": []
   },
   "outputs": [
    {
     "data": {
      "image/png": "[encoded data removed]",
      "text/plain": [
       "<Figure size 1080x216 with 1 Axes>"
      ]
     },
     "metadata": {
      "needs_background": "light"
     },
     "output_type": "display_data"
    },
    {
     "data": {
      "image/png": "[encoded data removed]",
      "text/plain": [
       "<Figure size 1080x216 with 1 Axes>"
      ]
     },
     "metadata": {
      "needs_background": "light"
     },
     "output_type": "display_data"
    },
    {
     "data": {
      "image/png": "[encoded data removed]",
      "text/plain": [
       "<Figure size 1080x216 with 1 Axes>"
      ]
     },
     "metadata": {
      "needs_background": "light"
     },
     "output_type": "display_data"
    },
    {
     "data": {
      "image/png": "[encoded data removed]",
      "text/plain": [
       "<Figure size 1080x216 with 1 Axes>"
      ]
     },
     "metadata": {
      "needs_background": "light"
     },
     "output_type": "display_data"
    },
    {
     "data": {
      "image/png": "[encoded data removed]",
      "text/plain": [
       "<Figure size 1080x216 with 1 Axes>"
      ]
     },
     "metadata": {
      "needs_background": "light"
     },
     "output_type": "display_data"
    },
    {
     "data": {
      "image/png": "[encoded data removed]",
      "text/plain": [
       "<Figure size 1080x216 with 1 Axes>"
      ]
     },
     "metadata": {
      "needs_background": "light"
     },
     "output_type": "display_data"
    },
    {
     "data": {
      "image/png": "[encoded data removed]",
      "text/plain": [
       "<Figure size 1080x216 with 1 Axes>"
      ]
     },
     "metadata": {
      "needs_background": "light"
     },
     "output_type": "display_data"
    },
    {
     "data": {
      "image/png": "[encoded data removed]",
      "text/plain": [
       "<Figure size 1080x216 with 1 Axes>"
      ]
     },
     "metadata": {
      "needs_background": "light"
     },
     "output_type": "display_data"
    }
   ],
   "source": [
    "# посмотрим, как выглядит распределение по категориям\n",
    "for i in cat_cols:\n",
    "    f = plt.figure(figsize=(15, 3))\n",
    "    gs = f.add_gridspec(1, 4)\n",
    "    with sns.axes_style(\"white\"):\n",
    "        ax = f.add_subplot(gs[0, 0])\n",
    "        sns.barplot(x=i, y='default', data=data[data['sample'] ==1], estimator=len)\n",
    "    f.tight_layout()"
   ]
  },
  {
   "cell_type": "code",
   "execution_count": 194,
   "metadata": {
    "execution": {
     "iopub.execute_input": "2020-12-25T19:28:40.865579Z",
     "iopub.status.busy": "2020-12-25T19:28:40.860606Z",
     "iopub.status.idle": "2020-12-25T19:28:40.914506Z",
     "shell.execute_reply": "2020-12-25T19:28:40.913976Z"
    },
    "papermill": {
     "duration": 0.162677,
     "end_time": "2020-12-25T19:28:40.914623",
     "exception": false,
     "start_time": "2020-12-25T19:28:40.751946",
     "status": "completed"
    },
    "tags": []
   },
   "outputs": [],
   "source": [
    "# заменим значения в столбце education на числовые\n",
    "\n",
    "le_edu = LabelEncoder()\n",
    "le_edu.fit(data['education'])\n",
    "data['education'] = le_edu.transform(data['education'])"
   ]
  },
  {
   "cell_type": "code",
   "execution_count": 195,
   "metadata": {},
   "outputs": [
    {
     "data": {
      "text/html": [
       "<div>\n",
       "<style scoped>\n",
       "    .dataframe tbody tr th:only-of-type {\n",
       "        vertical-align: middle;\n",
       "    }\n",
       "\n",
       "    .dataframe tbody tr th {\n",
       "        vertical-align: top;\n",
       "    }\n",
       "\n",
       "    .dataframe thead th {\n",
       "        text-align: right;\n",
       "    }\n",
       "</style>\n",
       "<table border=\"1\" class=\"dataframe\">\n",
       "  <thead>\n",
       "    <tr style=\"text-align: right;\">\n",
       "      <th></th>\n",
       "      <th>client_id</th>\n",
       "      <th>education</th>\n",
       "      <th>sex</th>\n",
       "      <th>age</th>\n",
       "      <th>car</th>\n",
       "      <th>car_type</th>\n",
       "      <th>decline_app_cnt</th>\n",
       "      <th>good_work</th>\n",
       "      <th>score_bki</th>\n",
       "      <th>bki_request_cnt</th>\n",
       "      <th>region_rating</th>\n",
       "      <th>home_address</th>\n",
       "      <th>work_address</th>\n",
       "      <th>income</th>\n",
       "      <th>sna</th>\n",
       "      <th>first_time</th>\n",
       "      <th>foreign_passport</th>\n",
       "      <th>sample</th>\n",
       "      <th>default</th>\n",
       "      <th>app_month</th>\n",
       "    </tr>\n",
       "  </thead>\n",
       "  <tbody>\n",
       "    <tr>\n",
       "      <th>0</th>\n",
       "      <td>74835</td>\n",
       "      <td>1</td>\n",
       "      <td>1</td>\n",
       "      <td>3.401197</td>\n",
       "      <td>1</td>\n",
       "      <td>1</td>\n",
       "      <td>0</td>\n",
       "      <td>0</td>\n",
       "      <td>-2.271884</td>\n",
       "      <td>1.386294</td>\n",
       "      <td>50</td>\n",
       "      <td>1</td>\n",
       "      <td>2</td>\n",
       "      <td>10.819798</td>\n",
       "      <td>1</td>\n",
       "      <td>4</td>\n",
       "      <td>0</td>\n",
       "      <td>0</td>\n",
       "      <td>0</td>\n",
       "      <td>3</td>\n",
       "    </tr>\n",
       "    <tr>\n",
       "      <th>1</th>\n",
       "      <td>17527</td>\n",
       "      <td>3</td>\n",
       "      <td>0</td>\n",
       "      <td>3.688879</td>\n",
       "      <td>0</td>\n",
       "      <td>0</td>\n",
       "      <td>2</td>\n",
       "      <td>0</td>\n",
       "      <td>-1.504999</td>\n",
       "      <td>1.098612</td>\n",
       "      <td>50</td>\n",
       "      <td>1</td>\n",
       "      <td>2</td>\n",
       "      <td>8.517393</td>\n",
       "      <td>4</td>\n",
       "      <td>3</td>\n",
       "      <td>0</td>\n",
       "      <td>0</td>\n",
       "      <td>0</td>\n",
       "      <td>1</td>\n",
       "    </tr>\n",
       "    <tr>\n",
       "      <th>2</th>\n",
       "      <td>75683</td>\n",
       "      <td>4</td>\n",
       "      <td>1</td>\n",
       "      <td>3.931826</td>\n",
       "      <td>1</td>\n",
       "      <td>1</td>\n",
       "      <td>0</td>\n",
       "      <td>0</td>\n",
       "      <td>-1.691339</td>\n",
       "      <td>0.693147</td>\n",
       "      <td>50</td>\n",
       "      <td>1</td>\n",
       "      <td>2</td>\n",
       "      <td>10.308986</td>\n",
       "      <td>1</td>\n",
       "      <td>3</td>\n",
       "      <td>1</td>\n",
       "      <td>0</td>\n",
       "      <td>0</td>\n",
       "      <td>3</td>\n",
       "    </tr>\n",
       "    <tr>\n",
       "      <th>3</th>\n",
       "      <td>26883</td>\n",
       "      <td>3</td>\n",
       "      <td>1</td>\n",
       "      <td>4.043051</td>\n",
       "      <td>0</td>\n",
       "      <td>0</td>\n",
       "      <td>0</td>\n",
       "      <td>0</td>\n",
       "      <td>-2.374182</td>\n",
       "      <td>0.693147</td>\n",
       "      <td>40</td>\n",
       "      <td>1</td>\n",
       "      <td>2</td>\n",
       "      <td>9.741027</td>\n",
       "      <td>1</td>\n",
       "      <td>3</td>\n",
       "      <td>0</td>\n",
       "      <td>0</td>\n",
       "      <td>0</td>\n",
       "      <td>2</td>\n",
       "    </tr>\n",
       "    <tr>\n",
       "      <th>4</th>\n",
       "      <td>28862</td>\n",
       "      <td>1</td>\n",
       "      <td>0</td>\n",
       "      <td>3.663562</td>\n",
       "      <td>0</td>\n",
       "      <td>0</td>\n",
       "      <td>0</td>\n",
       "      <td>0</td>\n",
       "      <td>-2.487502</td>\n",
       "      <td>0.000000</td>\n",
       "      <td>80</td>\n",
       "      <td>2</td>\n",
       "      <td>3</td>\n",
       "      <td>11.695255</td>\n",
       "      <td>1</td>\n",
       "      <td>3</td>\n",
       "      <td>0</td>\n",
       "      <td>0</td>\n",
       "      <td>0</td>\n",
       "      <td>2</td>\n",
       "    </tr>\n",
       "  </tbody>\n",
       "</table>\n",
       "</div>"
      ],
      "text/plain": [
       "   client_id  education  sex       age  car  car_type  decline_app_cnt  \\\n",
       "0      74835          1    1  3.401197    1         1                0   \n",
       "1      17527          3    0  3.688879    0         0                2   \n",
       "2      75683          4    1  3.931826    1         1                0   \n",
       "3      26883          3    1  4.043051    0         0                0   \n",
       "4      28862          1    0  3.663562    0         0                0   \n",
       "\n",
       "   good_work  score_bki  bki_request_cnt  region_rating  home_address  \\\n",
       "0          0  -2.271884         1.386294             50             1   \n",
       "1          0  -1.504999         1.098612             50             1   \n",
       "2          0  -1.691339         0.693147             50             1   \n",
       "3          0  -2.374182         0.693147             40             1   \n",
       "4          0  -2.487502         0.000000             80             2   \n",
       "\n",
       "   work_address     income  sna  first_time  foreign_passport  sample  \\\n",
       "0             2  10.819798    1           4                 0       0   \n",
       "1             2   8.517393    4           3                 0       0   \n",
       "2             2  10.308986    1           3                 1       0   \n",
       "3             2   9.741027    1           3                 0       0   \n",
       "4             3  11.695255    1           3                 0       0   \n",
       "\n",
       "   default  app_month  \n",
       "0        0          3  \n",
       "1        0          1  \n",
       "2        0          3  \n",
       "3        0          2  \n",
       "4        0          2  "
      ]
     },
     "execution_count": 195,
     "metadata": {},
     "output_type": "execute_result"
    }
   ],
   "source": [
    "#проверим\n",
    "data.head(\n",
    "\n",
    ")"
   ]
  },
  {
   "cell_type": "code",
   "execution_count": 196,
   "metadata": {},
   "outputs": [
    {
     "data": {
      "text/plain": [
       "<matplotlib.axes._subplots.AxesSubplot at 0x211f2562f48>"
      ]
     },
     "execution_count": 196,
     "metadata": {},
     "output_type": "execute_result"
    },
    {
     "data": {
      "image/png": "[encoded data removed]",
      "text/plain": [
       "<Figure size 432x288 with 1 Axes>"
      ]
     },
     "metadata": {
      "needs_background": "light"
     },
     "output_type": "display_data"
    }
   ],
   "source": [
    "# посмотрим значимость бинарных и категориальных признаков\n",
    "imp_cat = Series(mutual_info_classif(data[data['sample']==1][bin_cols + cat_cols], data[data['sample']==1]['default'],\n",
    "                                     discrete_features =True), index = bin_cols + cat_cols)\n",
    "imp_cat.sort_values(inplace = True)\n",
    "imp_cat.plot(kind = 'barh')"
   ]
  },
  {
   "cell_type": "code",
   "execution_count": 197,
   "metadata": {
    "execution": {
     "iopub.execute_input": "2020-12-25T19:28:42.009821Z",
     "iopub.status.busy": "2020-12-25T19:28:42.008699Z",
     "iopub.status.idle": "2020-12-25T19:28:42.056600Z",
     "shell.execute_reply": "2020-12-25T19:28:42.057332Z"
    },
    "papermill": {
     "duration": 0.192517,
     "end_time": "2020-12-25T19:28:42.057553",
     "exception": false,
     "start_time": "2020-12-25T19:28:41.865036",
     "status": "completed"
    },
    "tags": []
   },
   "outputs": [],
   "source": [
    "# заменим все категориальные признаки на dummi переменные\n",
    "\n",
    "data = pd.get_dummies(data, prefix=cat_cols, columns=cat_cols)"
   ]
  },
  {
   "cell_type": "code",
   "execution_count": 198,
   "metadata": {
    "execution": {
     "iopub.execute_input": "2020-12-25T19:28:42.377606Z",
     "iopub.status.busy": "2020-12-25T19:28:42.376746Z",
     "iopub.status.idle": "2020-12-25T19:28:42.400103Z",
     "shell.execute_reply": "2020-12-25T19:28:42.400588Z"
    },
    "papermill": {
     "duration": 0.175449,
     "end_time": "2020-12-25T19:28:42.400727",
     "exception": false,
     "start_time": "2020-12-25T19:28:42.225278",
     "status": "completed"
    },
    "tags": []
   },
   "outputs": [
    {
     "name": "stdout",
     "output_type": "stream",
     "text": [
      "<class 'pandas.core.frame.DataFrame'>\n",
      "RangeIndex: 110148 entries, 0 to 110147\n",
      "Data columns (total 45 columns):\n",
      " #   Column             Non-Null Count   Dtype  \n",
      "---  ------             --------------   -----  \n",
      " 0   client_id          110148 non-null  int64  \n",
      " 1   sex                110148 non-null  int32  \n",
      " 2   age                110148 non-null  float64\n",
      " 3   car                110148 non-null  int32  \n",
      " 4   car_type           110148 non-null  int32  \n",
      " 5   good_work          110148 non-null  int64  \n",
      " 6   score_bki          110148 non-null  float64\n",
      " 7   bki_request_cnt    110148 non-null  float64\n",
      " 8   income             110148 non-null  float64\n",
      " 9   foreign_passport   110148 non-null  int32  \n",
      " 10  sample             110148 non-null  int64  \n",
      " 11  default            110148 non-null  int64  \n",
      " 12  education_0        110148 non-null  uint8  \n",
      " 13  education_1        110148 non-null  uint8  \n",
      " 14  education_2        110148 non-null  uint8  \n",
      " 15  education_3        110148 non-null  uint8  \n",
      " 16  education_4        110148 non-null  uint8  \n",
      " 17  region_rating_20   110148 non-null  uint8  \n",
      " 18  region_rating_30   110148 non-null  uint8  \n",
      " 19  region_rating_40   110148 non-null  uint8  \n",
      " 20  region_rating_50   110148 non-null  uint8  \n",
      " 21  region_rating_60   110148 non-null  uint8  \n",
      " 22  region_rating_70   110148 non-null  uint8  \n",
      " 23  region_rating_80   110148 non-null  uint8  \n",
      " 24  home_address_1     110148 non-null  uint8  \n",
      " 25  home_address_2     110148 non-null  uint8  \n",
      " 26  home_address_3     110148 non-null  uint8  \n",
      " 27  work_address_1     110148 non-null  uint8  \n",
      " 28  work_address_2     110148 non-null  uint8  \n",
      " 29  work_address_3     110148 non-null  uint8  \n",
      " 30  sna_1              110148 non-null  uint8  \n",
      " 31  sna_2              110148 non-null  uint8  \n",
      " 32  sna_3              110148 non-null  uint8  \n",
      " 33  sna_4              110148 non-null  uint8  \n",
      " 34  first_time_1       110148 non-null  uint8  \n",
      " 35  first_time_2       110148 non-null  uint8  \n",
      " 36  first_time_3       110148 non-null  uint8  \n",
      " 37  first_time_4       110148 non-null  uint8  \n",
      " 38  app_month_1        110148 non-null  uint8  \n",
      " 39  app_month_2        110148 non-null  uint8  \n",
      " 40  app_month_3        110148 non-null  uint8  \n",
      " 41  app_month_4        110148 non-null  uint8  \n",
      " 42  decline_app_cnt_0  110148 non-null  uint8  \n",
      " 43  decline_app_cnt_1  110148 non-null  uint8  \n",
      " 44  decline_app_cnt_2  110148 non-null  uint8  \n",
      "dtypes: float64(4), int32(4), int64(4), uint8(33)\n",
      "memory usage: 11.9 MB\n"
     ]
    }
   ],
   "source": [
    "data.info()"
   ]
  },
  {
   "cell_type": "code",
   "execution_count": 199,
   "metadata": {
    "execution": {
     "iopub.execute_input": "2020-12-25T19:28:42.595949Z",
     "iopub.status.busy": "2020-12-25T19:28:42.595238Z",
     "iopub.status.idle": "2020-12-25T19:28:42.608923Z",
     "shell.execute_reply": "2020-12-25T19:28:42.608367Z"
    },
    "papermill": {
     "duration": 0.114402,
     "end_time": "2020-12-25T19:28:42.609036",
     "exception": false,
     "start_time": "2020-12-25T19:28:42.494634",
     "status": "completed"
    },
    "tags": []
   },
   "outputs": [],
   "source": [
    "# удалим столбец client_id, он нам не нужен для построения можеди\n",
    "data = data.drop('client_id', axis=1)\n"
   ]
  },
  {
   "cell_type": "markdown",
   "metadata": {
    "papermill": {
     "duration": 0.096075,
     "end_time": "2020-12-25T19:28:42.801196",
     "exception": false,
     "start_time": "2020-12-25T19:28:42.705121",
     "status": "completed"
    },
    "tags": []
   },
   "source": [
    "# Построение и обучение модели\n"
   ]
  },
  {
   "cell_type": "code",
   "execution_count": 200,
   "metadata": {
    "execution": {
     "iopub.execute_input": "2020-12-25T19:28:42.997586Z",
     "iopub.status.busy": "2020-12-25T19:28:42.996949Z",
     "iopub.status.idle": "2020-12-25T19:28:43.016140Z",
     "shell.execute_reply": "2020-12-25T19:28:43.015525Z"
    },
    "papermill": {
     "duration": 0.120253,
     "end_time": "2020-12-25T19:28:43.016248",
     "exception": false,
     "start_time": "2020-12-25T19:28:42.895995",
     "status": "completed"
    },
    "tags": []
   },
   "outputs": [],
   "source": [
    "# разделим выборку обратно на train и test\n",
    "train = data[data['sample']== 1].drop(['sample'], axis=1)\n",
    "test = data[data['sample']== 0].drop(['sample'], axis=1)"
   ]
  },
  {
   "cell_type": "code",
   "execution_count": 201,
   "metadata": {
    "execution": {
     "iopub.execute_input": "2020-12-25T19:28:43.222956Z",
     "iopub.status.busy": "2020-12-25T19:28:43.222338Z",
     "iopub.status.idle": "2020-12-25T19:28:43.236939Z",
     "shell.execute_reply": "2020-12-25T19:28:43.237412Z"
    },
    "papermill": {
     "duration": 0.113692,
     "end_time": "2020-12-25T19:28:43.237619",
     "exception": false,
     "start_time": "2020-12-25T19:28:43.123927",
     "status": "completed"
    },
    "tags": []
   },
   "outputs": [],
   "source": [
    "X = train.drop(['default'], axis=1).values\n",
    "y = train['default'].values"
   ]
  },
  {
   "cell_type": "code",
   "execution_count": 202,
   "metadata": {
    "execution": {
     "iopub.execute_input": "2020-12-25T19:28:43.433560Z",
     "iopub.status.busy": "2020-12-25T19:28:43.432930Z",
     "iopub.status.idle": "2020-12-25T19:28:43.463944Z",
     "shell.execute_reply": "2020-12-25T19:28:43.464421Z"
    },
    "papermill": {
     "duration": 0.12973,
     "end_time": "2020-12-25T19:28:43.464583",
     "exception": false,
     "start_time": "2020-12-25T19:28:43.334853",
     "status": "completed"
    },
    "tags": []
   },
   "outputs": [],
   "source": [
    "# разделим теперь train на тренировочную и валидационную выборки\n",
    "X_train, X_valid, y_train, y_valid = train_test_split(X, y, test_size=0.20, random_state=RANDOM_SEED)"
   ]
  },
  {
   "cell_type": "code",
   "execution_count": 203,
   "metadata": {
    "execution": {
     "iopub.execute_input": "2020-12-25T19:28:43.658503Z",
     "iopub.status.busy": "2020-12-25T19:28:43.657871Z",
     "iopub.status.idle": "2020-12-25T19:28:43.662529Z",
     "shell.execute_reply": "2020-12-25T19:28:43.661991Z"
    },
    "papermill": {
     "duration": 0.102373,
     "end_time": "2020-12-25T19:28:43.662635",
     "exception": false,
     "start_time": "2020-12-25T19:28:43.560262",
     "status": "completed"
    },
    "tags": []
   },
   "outputs": [],
   "source": [
    "lr = LogisticRegression(random_state=RANDOM_SEED,max_iter=10000)"
   ]
  },
  {
   "cell_type": "code",
   "execution_count": 204,
   "metadata": {
    "execution": {
     "iopub.execute_input": "2020-12-25T19:28:43.862431Z",
     "iopub.status.busy": "2020-12-25T19:28:43.861847Z",
     "iopub.status.idle": "2020-12-25T19:28:46.484736Z",
     "shell.execute_reply": "2020-12-25T19:28:46.484164Z"
    },
    "papermill": {
     "duration": 2.720434,
     "end_time": "2020-12-25T19:28:46.484844",
     "exception": false,
     "start_time": "2020-12-25T19:28:43.764410",
     "status": "completed"
    },
    "tags": []
   },
   "outputs": [
    {
     "data": {
      "text/plain": [
       "LogisticRegression(max_iter=10000, random_state=42)"
      ]
     },
     "execution_count": 204,
     "metadata": {},
     "output_type": "execute_result"
    }
   ],
   "source": [
    "lr.fit(X_train, y_train)"
   ]
  },
  {
   "cell_type": "code",
   "execution_count": 205,
   "metadata": {
    "execution": {
     "iopub.execute_input": "2020-12-25T19:28:46.680877Z",
     "iopub.status.busy": "2020-12-25T19:28:46.680238Z",
     "iopub.status.idle": "2020-12-25T19:28:46.685710Z",
     "shell.execute_reply": "2020-12-25T19:28:46.685110Z"
    },
    "papermill": {
     "duration": 0.105414,
     "end_time": "2020-12-25T19:28:46.685819",
     "exception": false,
     "start_time": "2020-12-25T19:28:46.580405",
     "status": "completed"
    },
    "tags": []
   },
   "outputs": [],
   "source": [
    "valid = lr.predict_proba(X_valid)\n",
    "y_pred_valid = valid[:,1]\n",
    "\n",
    "y_pred = lr.predict(X_valid)"
   ]
  },
  {
   "cell_type": "code",
   "execution_count": 206,
   "metadata": {
    "execution": {
     "iopub.execute_input": "2020-12-25T19:28:46.886119Z",
     "iopub.status.busy": "2020-12-25T19:28:46.885502Z",
     "iopub.status.idle": "2020-12-25T19:28:46.917285Z",
     "shell.execute_reply": "2020-12-25T19:28:46.916763Z"
    },
    "papermill": {
     "duration": 0.135754,
     "end_time": "2020-12-25T19:28:46.917394",
     "exception": false,
     "start_time": "2020-12-25T19:28:46.781640",
     "status": "completed"
    },
    "tags": []
   },
   "outputs": [
    {
     "data": {
      "text/html": [
       "<div>\n",
       "<style scoped>\n",
       "    .dataframe tbody tr th:only-of-type {\n",
       "        vertical-align: middle;\n",
       "    }\n",
       "\n",
       "    .dataframe tbody tr th {\n",
       "        vertical-align: top;\n",
       "    }\n",
       "\n",
       "    .dataframe thead th {\n",
       "        text-align: right;\n",
       "    }\n",
       "</style>\n",
       "<table border=\"1\" class=\"dataframe\">\n",
       "  <thead>\n",
       "    <tr style=\"text-align: right;\">\n",
       "      <th></th>\n",
       "      <th>model_1</th>\n",
       "    </tr>\n",
       "  </thead>\n",
       "  <tbody>\n",
       "    <tr>\n",
       "      <th>accuracy</th>\n",
       "      <td>0.874864</td>\n",
       "    </tr>\n",
       "    <tr>\n",
       "      <th>precision</th>\n",
       "      <td>0.403846</td>\n",
       "    </tr>\n",
       "    <tr>\n",
       "      <th>recall</th>\n",
       "      <td>0.022989</td>\n",
       "    </tr>\n",
       "    <tr>\n",
       "      <th>f1_score</th>\n",
       "      <td>0.043501</td>\n",
       "    </tr>\n",
       "    <tr>\n",
       "      <th>ROC_AUC</th>\n",
       "      <td>0.744557</td>\n",
       "    </tr>\n",
       "  </tbody>\n",
       "</table>\n",
       "</div>"
      ],
      "text/plain": [
       "            model_1\n",
       "accuracy   0.874864\n",
       "precision  0.403846\n",
       "recall     0.022989\n",
       "f1_score   0.043501\n",
       "ROC_AUC    0.744557"
      ]
     },
     "execution_count": 206,
     "metadata": {},
     "output_type": "execute_result"
    }
   ],
   "source": [
    "# посмотрим метрики\n",
    "summary_metrics(summary,'model_1',y_valid,y_pred,y_pred_valid)"
   ]
  },
  {
   "cell_type": "code",
   "execution_count": 207,
   "metadata": {
    "execution": {
     "iopub.execute_input": "2020-12-25T19:28:47.129192Z",
     "iopub.status.busy": "2020-12-25T19:28:47.128182Z",
     "iopub.status.idle": "2020-12-25T19:28:47.300655Z",
     "shell.execute_reply": "2020-12-25T19:28:47.300135Z"
    },
    "papermill": {
     "duration": 0.285343,
     "end_time": "2020-12-25T19:28:47.300764",
     "exception": false,
     "start_time": "2020-12-25T19:28:47.015421",
     "status": "completed"
    },
    "tags": []
   },
   "outputs": [
    {
     "data": {
      "image/png": "[encoded data removed]",
      "text/plain": [
       "<Figure size 432x288 with 1 Axes>"
      ]
     },
     "metadata": {
      "needs_background": "light"
     },
     "output_type": "display_data"
    }
   ],
   "source": [
    "# построим кривую roc\n",
    "roc_auc_curve(y_valid, y_pred_valid)"
   ]
  },
  {
   "cell_type": "code",
   "execution_count": 208,
   "metadata": {
    "execution": {
     "iopub.execute_input": "2020-12-25T19:28:47.501685Z",
     "iopub.status.busy": "2020-12-25T19:28:47.501064Z",
     "iopub.status.idle": "2020-12-25T19:28:47.521638Z",
     "shell.execute_reply": "2020-12-25T19:28:47.520889Z"
    },
    "papermill": {
     "duration": 0.122147,
     "end_time": "2020-12-25T19:28:47.521772",
     "exception": false,
     "start_time": "2020-12-25T19:28:47.399625",
     "status": "completed"
    },
    "tags": []
   },
   "outputs": [
    {
     "name": "stdout",
     "output_type": "stream",
     "text": [
      "Positive: 1827, Negative: 12933\n",
      "42 62\n",
      "1785 12871\n"
     ]
    }
   ],
   "source": [
    "# и выведем confusion matrix\n",
    "conf_mat(y_valid, y_pred)"
   ]
  },
  {
   "cell_type": "markdown",
   "metadata": {
    "papermill": {
     "duration": 0.14533,
     "end_time": "2020-12-25T19:28:47.815504",
     "exception": false,
     "start_time": "2020-12-25T19:28:47.670174",
     "status": "completed"
    },
    "tags": []
   },
   "source": [
    "из 1827 дефолтов мы предсказали только 42, метрика recall & f1-score очень низкие\n",
    "\n",
    "Попробуем улучшить модель, подобрав оптимальные параметры "
   ]
  },
  {
   "cell_type": "code",
   "execution_count": 209,
   "metadata": {},
   "outputs": [],
   "source": [
    "# попробуем подобрать параметры\n",
    "\n",
    "C = np.logspace(-1, 3, 10)\n",
    "iter_ = 1000\n",
    "epsilon_stop = 1e-3\n",
    " \n",
    "hyperparameters = [\n",
    "    {'penalty': ['l1'], \n",
    "     'C': C,\n",
    "     'solver': ['liblinear', 'saga'], \n",
    "     'multi_class': ['auto','ovr'], \n",
    "     'max_iter':[iter_],\n",
    "     'tol':[epsilon_stop]},\n",
    "    {'penalty': ['l2'], \n",
    "     'C': C,\n",
    "     'solver': ['newton-cg', 'lbfgs', 'liblinear', 'sag', 'saga'], \n",
    "     'multi_class': ['auto','ovr'], \n",
    "     'max_iter':[iter_],\n",
    "     'tol':[epsilon_stop]},\n",
    "    {'penalty': ['none'], \n",
    "     'C': C,\n",
    "     'solver': ['newton-cg', 'lbfgs', 'sag', 'saga'], \n",
    "     'multi_class': ['auto','ovr'], \n",
    "     'max_iter':[iter_],\n",
    "     'tol':[epsilon_stop]},\n",
    "    {'penalty': ['elasticnet'], \n",
    "     'C': C,\n",
    "     'solver': ['saga'], \n",
    "     'multi_class': ['auto','ovr'], \n",
    "     'max_iter':[iter_],\n",
    "     'tol':[epsilon_stop]},\n",
    "]\n",
    "\n",
    "model = LogisticRegression(class_weight = 'balanced', random_state = RANDOM_SEED)\n",
    "\n"
   ]
  },
  {
   "cell_type": "code",
   "execution_count": null,
   "metadata": {},
   "outputs": [],
   "source": [
    "gridsearch = GridSearchCV(model, hyperparameters, scoring='f1', n_jobs=-1, cv=5)\n",
    "gridsearch.fit(X_train, y_train)\n",
    "model_best_params = gridsearch.best_estimator_\n",
    "\n",
    "# Печатаем параметры\n",
    "best_params = model_best_params.get_params()\n",
    "print(f'Лучшие значения параметров:') \n",
    "for param_name in best_params.keys():\n",
    "        print(f'  {param_name} = {best_params[param_name]},')"
   ]
  },
  {
   "cell_type": "code",
   "execution_count": 211,
   "metadata": {},
   "outputs": [],
   "source": [
    "# обучаем модель с подобранными параметрами\n",
    "model_best_params = LogisticRegression(C = 0.1,\n",
    "                                      class_weight = 'balanced',\n",
    "                                      dual = False,\n",
    "                                      fit_intercept = True,\n",
    "                                      intercept_scaling = 1,\n",
    "                                      l1_ratio = None,\n",
    "                                      max_iter = 1000,\n",
    "                                      multi_class = 'auto',\n",
    "                                      n_jobs = None,\n",
    "                                      penalty = 'l1',\n",
    "                                      random_state = 42,\n",
    "                                      solver = 'liblinear',\n",
    "                                      tol = 0.001,\n",
    "                                      verbose = 0,\n",
    "                                      warm_start = False)"
   ]
  },
  {
   "cell_type": "code",
   "execution_count": 212,
   "metadata": {},
   "outputs": [
    {
     "data": {
      "text/plain": [
       "LogisticRegression(C=0.1, class_weight='balanced', max_iter=1000, penalty='l1',\n",
       "                   random_state=42, solver='liblinear', tol=0.001)"
      ]
     },
     "execution_count": 212,
     "metadata": {},
     "output_type": "execute_result"
    }
   ],
   "source": [
    "model_best_params.fit(X_train, y_train)"
   ]
  },
  {
   "cell_type": "code",
   "execution_count": 213,
   "metadata": {},
   "outputs": [],
   "source": [
    "valid = model_best_params.predict_proba(X_valid)\n",
    "y_pred_valid = valid[:,1]\n",
    "\n",
    "y_pred = model_best_params.predict(X_valid)"
   ]
  },
  {
   "cell_type": "code",
   "execution_count": 214,
   "metadata": {
    "execution": {
     "iopub.execute_input": "2020-12-25T19:42:05.807938Z",
     "iopub.status.busy": "2020-12-25T19:42:05.807293Z",
     "iopub.status.idle": "2020-12-25T19:42:05.843365Z",
     "shell.execute_reply": "2020-12-25T19:42:05.842823Z"
    },
    "papermill": {
     "duration": 0.139153,
     "end_time": "2020-12-25T19:42:05.843492",
     "exception": false,
     "start_time": "2020-12-25T19:42:05.704339",
     "status": "completed"
    },
    "tags": []
   },
   "outputs": [
    {
     "data": {
      "text/html": [
       "<div>\n",
       "<style scoped>\n",
       "    .dataframe tbody tr th:only-of-type {\n",
       "        vertical-align: middle;\n",
       "    }\n",
       "\n",
       "    .dataframe tbody tr th {\n",
       "        vertical-align: top;\n",
       "    }\n",
       "\n",
       "    .dataframe thead th {\n",
       "        text-align: right;\n",
       "    }\n",
       "</style>\n",
       "<table border=\"1\" class=\"dataframe\">\n",
       "  <thead>\n",
       "    <tr style=\"text-align: right;\">\n",
       "      <th></th>\n",
       "      <th>model_1</th>\n",
       "      <th>model_2</th>\n",
       "    </tr>\n",
       "  </thead>\n",
       "  <tbody>\n",
       "    <tr>\n",
       "      <th>accuracy</th>\n",
       "      <td>0.874864</td>\n",
       "      <td>0.670596</td>\n",
       "    </tr>\n",
       "    <tr>\n",
       "      <th>precision</th>\n",
       "      <td>0.403846</td>\n",
       "      <td>0.225439</td>\n",
       "    </tr>\n",
       "    <tr>\n",
       "      <th>recall</th>\n",
       "      <td>0.022989</td>\n",
       "      <td>0.681992</td>\n",
       "    </tr>\n",
       "    <tr>\n",
       "      <th>f1_score</th>\n",
       "      <td>0.043501</td>\n",
       "      <td>0.338863</td>\n",
       "    </tr>\n",
       "    <tr>\n",
       "      <th>ROC_AUC</th>\n",
       "      <td>0.744557</td>\n",
       "      <td>0.744296</td>\n",
       "    </tr>\n",
       "  </tbody>\n",
       "</table>\n",
       "</div>"
      ],
      "text/plain": [
       "            model_1   model_2\n",
       "accuracy   0.874864  0.670596\n",
       "precision  0.403846  0.225439\n",
       "recall     0.022989  0.681992\n",
       "f1_score   0.043501  0.338863\n",
       "ROC_AUC    0.744557  0.744296"
      ]
     },
     "execution_count": 214,
     "metadata": {},
     "output_type": "execute_result"
    }
   ],
   "source": [
    "# сравним метрики с предыдущей моделью\n",
    "summary_metrics(summary,'model_2',y_valid,y_pred,y_pred_valid)"
   ]
  },
  {
   "cell_type": "code",
   "execution_count": 215,
   "metadata": {
    "execution": {
     "iopub.execute_input": "2020-12-25T19:42:06.048281Z",
     "iopub.status.busy": "2020-12-25T19:42:06.047670Z",
     "iopub.status.idle": "2020-12-25T19:42:06.218177Z",
     "shell.execute_reply": "2020-12-25T19:42:06.217568Z"
    },
    "papermill": {
     "duration": 0.274225,
     "end_time": "2020-12-25T19:42:06.218297",
     "exception": false,
     "start_time": "2020-12-25T19:42:05.944072",
     "status": "completed"
    },
    "tags": []
   },
   "outputs": [
    {
     "data": {
      "image/png": "[encoded data removed]",
      "text/plain": [
       "<Figure size 432x288 with 1 Axes>"
      ]
     },
     "metadata": {
      "needs_background": "light"
     },
     "output_type": "display_data"
    }
   ],
   "source": [
    "roc_auc_curve(y_valid, y_pred_valid)"
   ]
  },
  {
   "cell_type": "code",
   "execution_count": 216,
   "metadata": {
    "execution": {
     "iopub.execute_input": "2020-12-25T19:42:06.431870Z",
     "iopub.status.busy": "2020-12-25T19:42:06.431078Z",
     "iopub.status.idle": "2020-12-25T19:42:06.454617Z",
     "shell.execute_reply": "2020-12-25T19:42:06.453861Z"
    },
    "papermill": {
     "duration": 0.13173,
     "end_time": "2020-12-25T19:42:06.454765",
     "exception": false,
     "start_time": "2020-12-25T19:42:06.323035",
     "status": "completed"
    },
    "tags": []
   },
   "outputs": [
    {
     "name": "stdout",
     "output_type": "stream",
     "text": [
      "Positive: 1827, Negative: 12933\n",
      "1246 4281\n",
      "581 8652\n"
     ]
    }
   ],
   "source": [
    "conf_mat(y_valid, y_pred)"
   ]
  },
  {
   "cell_type": "markdown",
   "metadata": {
    "papermill": {
     "duration": 0.153559,
     "end_time": "2020-12-25T19:42:07.069079",
     "exception": false,
     "start_time": "2020-12-25T19:42:06.915520",
     "status": "completed"
    },
    "tags": []
   },
   "source": [
    "Метрики accuracy и precision ухудшились, зато сильно улучшилась метрика recall и f1. \n",
    "Попробуем применить Undersampling, чтобы сделать нашу выборку сбалансированной"
   ]
  },
  {
   "cell_type": "code",
   "execution_count": 217,
   "metadata": {
    "execution": {
     "iopub.execute_input": "2020-12-25T19:42:07.383774Z",
     "iopub.status.busy": "2020-12-25T19:42:07.383116Z",
     "iopub.status.idle": "2020-12-25T19:42:07.570248Z",
     "shell.execute_reply": "2020-12-25T19:42:07.569721Z"
    },
    "papermill": {
     "duration": 0.347579,
     "end_time": "2020-12-25T19:42:07.570364",
     "exception": false,
     "start_time": "2020-12-25T19:42:07.222785",
     "status": "completed"
    },
    "tags": []
   },
   "outputs": [],
   "source": [
    "from imblearn.under_sampling import RandomUnderSampler"
   ]
  },
  {
   "cell_type": "code",
   "execution_count": 218,
   "metadata": {
    "execution": {
     "iopub.execute_input": "2020-12-25T19:42:07.783584Z",
     "iopub.status.busy": "2020-12-25T19:42:07.782933Z",
     "iopub.status.idle": "2020-12-25T19:42:07.813179Z",
     "shell.execute_reply": "2020-12-25T19:42:07.812653Z"
    },
    "papermill": {
     "duration": 0.139117,
     "end_time": "2020-12-25T19:42:07.813292",
     "exception": false,
     "start_time": "2020-12-25T19:42:07.674175",
     "status": "completed"
    },
    "tags": []
   },
   "outputs": [],
   "source": [
    "rus = RandomUnderSampler(random_state=42)\n",
    "X_us, y_us = rus.fit_resample(X, y)"
   ]
  },
  {
   "cell_type": "code",
   "execution_count": 219,
   "metadata": {
    "execution": {
     "iopub.execute_input": "2020-12-25T19:42:08.027887Z",
     "iopub.status.busy": "2020-12-25T19:42:08.027087Z",
     "iopub.status.idle": "2020-12-25T19:42:08.032319Z",
     "shell.execute_reply": "2020-12-25T19:42:08.031824Z"
    },
    "papermill": {
     "duration": 0.114434,
     "end_time": "2020-12-25T19:42:08.032429",
     "exception": false,
     "start_time": "2020-12-25T19:42:07.917995",
     "status": "completed"
    },
    "tags": []
   },
   "outputs": [
    {
     "data": {
      "text/plain": [
       "((18744, 42), (18744,))"
      ]
     },
     "execution_count": 219,
     "metadata": {},
     "output_type": "execute_result"
    }
   ],
   "source": [
    "(X_us.shape, y_us.shape)"
   ]
  },
  {
   "cell_type": "code",
   "execution_count": 220,
   "metadata": {
    "execution": {
     "iopub.execute_input": "2020-12-25T19:42:08.248140Z",
     "iopub.status.busy": "2020-12-25T19:42:08.247514Z",
     "iopub.status.idle": "2020-12-25T19:42:08.258295Z",
     "shell.execute_reply": "2020-12-25T19:42:08.257790Z"
    },
    "papermill": {
     "duration": 0.12177,
     "end_time": "2020-12-25T19:42:08.258408",
     "exception": false,
     "start_time": "2020-12-25T19:42:08.136638",
     "status": "completed"
    },
    "tags": []
   },
   "outputs": [],
   "source": [
    "X_train_us, X_test_us, y_train_us, y_test_us = train_test_split(X_us, y_us, test_size=0.10, shuffle = True, random_state=RANDOM_SEED)"
   ]
  },
  {
   "cell_type": "code",
   "execution_count": 221,
   "metadata": {
    "execution": {
     "iopub.execute_input": "2020-12-25T19:42:08.478758Z",
     "iopub.status.busy": "2020-12-25T19:42:08.478069Z",
     "iopub.status.idle": "2020-12-25T19:42:08.482200Z",
     "shell.execute_reply": "2020-12-25T19:42:08.481680Z"
    },
    "papermill": {
     "duration": 0.117852,
     "end_time": "2020-12-25T19:42:08.482304",
     "exception": false,
     "start_time": "2020-12-25T19:42:08.364452",
     "status": "completed"
    },
    "tags": []
   },
   "outputs": [],
   "source": [
    "model_us = LogisticRegression(C = 0.1,\n",
    "                                      dual = False,\n",
    "                                      fit_intercept = True,\n",
    "                                      intercept_scaling = 1,\n",
    "                                      l1_ratio = None,\n",
    "                                      max_iter = 1000,\n",
    "                                      multi_class = 'auto',\n",
    "                                      n_jobs = None,\n",
    "                                      penalty = 'l1',\n",
    "                                      random_state = 42,\n",
    "                                      solver = 'liblinear',\n",
    "                                      tol = 0.001,\n",
    "                                      verbose = 0,\n",
    "                                      warm_start = False)"
   ]
  },
  {
   "cell_type": "code",
   "execution_count": 222,
   "metadata": {
    "execution": {
     "iopub.execute_input": "2020-12-25T19:42:08.697640Z",
     "iopub.status.busy": "2020-12-25T19:42:08.697013Z",
     "iopub.status.idle": "2020-12-25T19:42:10.177032Z",
     "shell.execute_reply": "2020-12-25T19:42:10.177558Z"
    },
    "papermill": {
     "duration": 1.589381,
     "end_time": "2020-12-25T19:42:10.177686",
     "exception": false,
     "start_time": "2020-12-25T19:42:08.588305",
     "status": "completed"
    },
    "tags": []
   },
   "outputs": [
    {
     "data": {
      "text/plain": [
       "LogisticRegression(C=0.1, max_iter=1000, penalty='l1', random_state=42,\n",
       "                   solver='liblinear', tol=0.001)"
      ]
     },
     "execution_count": 222,
     "metadata": {},
     "output_type": "execute_result"
    }
   ],
   "source": [
    "model_us.fit(X_train_us, y_train_us)"
   ]
  },
  {
   "cell_type": "code",
   "execution_count": 223,
   "metadata": {
    "execution": {
     "iopub.execute_input": "2020-12-25T19:42:10.391840Z",
     "iopub.status.busy": "2020-12-25T19:42:10.391206Z",
     "iopub.status.idle": "2020-12-25T19:42:10.397922Z",
     "shell.execute_reply": "2020-12-25T19:42:10.398374Z"
    },
    "papermill": {
     "duration": 0.117452,
     "end_time": "2020-12-25T19:42:10.398522",
     "exception": false,
     "start_time": "2020-12-25T19:42:10.281070",
     "status": "completed"
    },
    "tags": []
   },
   "outputs": [],
   "source": [
    "valid = model_us.predict_proba(X_test_us)\n",
    "y_pred_valid = valid[:,1]\n",
    "\n",
    "y_pred = model_us.predict(X_test_us)"
   ]
  },
  {
   "cell_type": "code",
   "execution_count": 224,
   "metadata": {
    "execution": {
     "iopub.execute_input": "2020-12-25T19:42:10.619317Z",
     "iopub.status.busy": "2020-12-25T19:42:10.616223Z",
     "iopub.status.idle": "2020-12-25T19:42:10.641381Z",
     "shell.execute_reply": "2020-12-25T19:42:10.640644Z"
    },
    "papermill": {
     "duration": 0.139329,
     "end_time": "2020-12-25T19:42:10.641536",
     "exception": false,
     "start_time": "2020-12-25T19:42:10.502207",
     "status": "completed"
    },
    "tags": []
   },
   "outputs": [
    {
     "data": {
      "text/html": [
       "<div>\n",
       "<style scoped>\n",
       "    .dataframe tbody tr th:only-of-type {\n",
       "        vertical-align: middle;\n",
       "    }\n",
       "\n",
       "    .dataframe tbody tr th {\n",
       "        vertical-align: top;\n",
       "    }\n",
       "\n",
       "    .dataframe thead th {\n",
       "        text-align: right;\n",
       "    }\n",
       "</style>\n",
       "<table border=\"1\" class=\"dataframe\">\n",
       "  <thead>\n",
       "    <tr style=\"text-align: right;\">\n",
       "      <th></th>\n",
       "      <th>model_1</th>\n",
       "      <th>model_2</th>\n",
       "      <th>model_us</th>\n",
       "    </tr>\n",
       "  </thead>\n",
       "  <tbody>\n",
       "    <tr>\n",
       "      <th>accuracy</th>\n",
       "      <td>0.874864</td>\n",
       "      <td>0.670596</td>\n",
       "      <td>0.679467</td>\n",
       "    </tr>\n",
       "    <tr>\n",
       "      <th>precision</th>\n",
       "      <td>0.403846</td>\n",
       "      <td>0.225439</td>\n",
       "      <td>0.686108</td>\n",
       "    </tr>\n",
       "    <tr>\n",
       "      <th>recall</th>\n",
       "      <td>0.022989</td>\n",
       "      <td>0.681992</td>\n",
       "      <td>0.679622</td>\n",
       "    </tr>\n",
       "    <tr>\n",
       "      <th>f1_score</th>\n",
       "      <td>0.043501</td>\n",
       "      <td>0.338863</td>\n",
       "      <td>0.682850</td>\n",
       "    </tr>\n",
       "    <tr>\n",
       "      <th>ROC_AUC</th>\n",
       "      <td>0.744557</td>\n",
       "      <td>0.744296</td>\n",
       "      <td>0.750356</td>\n",
       "    </tr>\n",
       "  </tbody>\n",
       "</table>\n",
       "</div>"
      ],
      "text/plain": [
       "            model_1   model_2  model_us\n",
       "accuracy   0.874864  0.670596  0.679467\n",
       "precision  0.403846  0.225439  0.686108\n",
       "recall     0.022989  0.681992  0.679622\n",
       "f1_score   0.043501  0.338863  0.682850\n",
       "ROC_AUC    0.744557  0.744296  0.750356"
      ]
     },
     "execution_count": 224,
     "metadata": {},
     "output_type": "execute_result"
    }
   ],
   "source": [
    "# сравним метрики с предыдущей моделью\n",
    "summary_metrics(summary,'model_us',y_test_us,y_pred,y_pred_probs)"
   ]
  },
  {
   "cell_type": "code",
   "execution_count": 225,
   "metadata": {
    "execution": {
     "iopub.execute_input": "2020-12-25T19:42:10.956212Z",
     "iopub.status.busy": "2020-12-25T19:42:10.955440Z",
     "iopub.status.idle": "2020-12-25T19:42:11.126443Z",
     "shell.execute_reply": "2020-12-25T19:42:11.127258Z"
    },
    "papermill": {
     "duration": 0.329986,
     "end_time": "2020-12-25T19:42:11.127417",
     "exception": false,
     "start_time": "2020-12-25T19:42:10.797431",
     "status": "completed"
    },
    "tags": []
   },
   "outputs": [
    {
     "data": {
      "image/png": "[encoded data removed]",
      "text/plain": [
       "<Figure size 432x288 with 1 Axes>"
      ]
     },
     "metadata": {
      "needs_background": "light"
     },
     "output_type": "display_data"
    }
   ],
   "source": [
    "roc_auc_curve(y_test_us, y_pred_probs)"
   ]
  },
  {
   "cell_type": "code",
   "execution_count": 226,
   "metadata": {
    "execution": {
     "iopub.execute_input": "2020-12-25T19:42:11.450146Z",
     "iopub.status.busy": "2020-12-25T19:42:11.448359Z",
     "iopub.status.idle": "2020-12-25T19:42:11.456612Z",
     "shell.execute_reply": "2020-12-25T19:42:11.457356Z"
    },
    "papermill": {
     "duration": 0.169422,
     "end_time": "2020-12-25T19:42:11.457542",
     "exception": false,
     "start_time": "2020-12-25T19:42:11.288120",
     "status": "completed"
    },
    "tags": []
   },
   "outputs": [
    {
     "name": "stdout",
     "output_type": "stream",
     "text": [
      "Positive: 952, Negative: 923\n",
      "647 296\n",
      "305 627\n"
     ]
    }
   ],
   "source": [
    "conf_mat(y_test_us, y_pred)"
   ]
  },
  {
   "cell_type": "markdown",
   "metadata": {
    "papermill": {
     "duration": 0.15555,
     "end_time": "2020-12-25T19:42:11.770133",
     "exception": false,
     "start_time": "2020-12-25T19:42:11.614583",
     "status": "completed"
    },
    "tags": []
   },
   "source": [
    "Видим, что у модели все метрики стали намного лучше. ЕЕ и отпрааляем на submission"
   ]
  },
  {
   "cell_type": "markdown",
   "metadata": {
    "papermill": {
     "duration": 0.102775,
     "end_time": "2020-12-25T19:42:12.028736",
     "exception": false,
     "start_time": "2020-12-25T19:42:11.925961",
     "status": "completed"
    },
    "tags": []
   },
   "source": [
    "# Submission"
   ]
  },
  {
   "cell_type": "code",
   "execution_count": 227,
   "metadata": {
    "execution": {
     "iopub.execute_input": "2020-12-25T19:42:12.213995Z",
     "iopub.status.busy": "2020-12-25T19:42:12.213187Z",
     "iopub.status.idle": "2020-12-25T19:42:12.217575Z",
     "shell.execute_reply": "2020-12-25T19:42:12.216873Z"
    },
    "papermill": {
     "duration": 0.111476,
     "end_time": "2020-12-25T19:42:12.217707",
     "exception": false,
     "start_time": "2020-12-25T19:42:12.106231",
     "status": "completed"
    },
    "tags": []
   },
   "outputs": [],
   "source": [
    "X_test = test.drop(['default'], axis=1)"
   ]
  },
  {
   "cell_type": "code",
   "execution_count": 228,
   "metadata": {
    "execution": {
     "iopub.execute_input": "2020-12-25T19:42:12.479794Z",
     "iopub.status.busy": "2020-12-25T19:42:12.479128Z",
     "iopub.status.idle": "2020-12-25T19:42:12.489395Z",
     "shell.execute_reply": "2020-12-25T19:42:12.489868Z"
    },
    "papermill": {
     "duration": 0.128771,
     "end_time": "2020-12-25T19:42:12.490020",
     "exception": false,
     "start_time": "2020-12-25T19:42:12.361249",
     "status": "completed"
    },
    "tags": []
   },
   "outputs": [],
   "source": [
    "y_pred_prob = model_us.predict_proba(X_test)[:,1]"
   ]
  },
  {
   "cell_type": "code",
   "execution_count": 229,
   "metadata": {},
   "outputs": [
    {
     "data": {
      "text/html": [
       "<div>\n",
       "<style scoped>\n",
       "    .dataframe tbody tr th:only-of-type {\n",
       "        vertical-align: middle;\n",
       "    }\n",
       "\n",
       "    .dataframe tbody tr th {\n",
       "        vertical-align: top;\n",
       "    }\n",
       "\n",
       "    .dataframe thead th {\n",
       "        text-align: right;\n",
       "    }\n",
       "</style>\n",
       "<table border=\"1\" class=\"dataframe\">\n",
       "  <thead>\n",
       "    <tr style=\"text-align: right;\">\n",
       "      <th></th>\n",
       "      <th>sex</th>\n",
       "      <th>age</th>\n",
       "      <th>car</th>\n",
       "      <th>car_type</th>\n",
       "      <th>good_work</th>\n",
       "      <th>score_bki</th>\n",
       "      <th>bki_request_cnt</th>\n",
       "      <th>income</th>\n",
       "      <th>foreign_passport</th>\n",
       "      <th>default</th>\n",
       "      <th>...</th>\n",
       "      <th>first_time_2</th>\n",
       "      <th>first_time_3</th>\n",
       "      <th>first_time_4</th>\n",
       "      <th>app_month_1</th>\n",
       "      <th>app_month_2</th>\n",
       "      <th>app_month_3</th>\n",
       "      <th>app_month_4</th>\n",
       "      <th>decline_app_cnt_0</th>\n",
       "      <th>decline_app_cnt_1</th>\n",
       "      <th>decline_app_cnt_2</th>\n",
       "    </tr>\n",
       "  </thead>\n",
       "  <tbody>\n",
       "    <tr>\n",
       "      <th>0</th>\n",
       "      <td>1</td>\n",
       "      <td>3.401197</td>\n",
       "      <td>1</td>\n",
       "      <td>1</td>\n",
       "      <td>0</td>\n",
       "      <td>-2.271884</td>\n",
       "      <td>1.386294</td>\n",
       "      <td>10.819798</td>\n",
       "      <td>0</td>\n",
       "      <td>0</td>\n",
       "      <td>...</td>\n",
       "      <td>0</td>\n",
       "      <td>0</td>\n",
       "      <td>1</td>\n",
       "      <td>0</td>\n",
       "      <td>0</td>\n",
       "      <td>1</td>\n",
       "      <td>0</td>\n",
       "      <td>1</td>\n",
       "      <td>0</td>\n",
       "      <td>0</td>\n",
       "    </tr>\n",
       "    <tr>\n",
       "      <th>1</th>\n",
       "      <td>0</td>\n",
       "      <td>3.688879</td>\n",
       "      <td>0</td>\n",
       "      <td>0</td>\n",
       "      <td>0</td>\n",
       "      <td>-1.504999</td>\n",
       "      <td>1.098612</td>\n",
       "      <td>8.517393</td>\n",
       "      <td>0</td>\n",
       "      <td>0</td>\n",
       "      <td>...</td>\n",
       "      <td>0</td>\n",
       "      <td>1</td>\n",
       "      <td>0</td>\n",
       "      <td>1</td>\n",
       "      <td>0</td>\n",
       "      <td>0</td>\n",
       "      <td>0</td>\n",
       "      <td>0</td>\n",
       "      <td>0</td>\n",
       "      <td>1</td>\n",
       "    </tr>\n",
       "    <tr>\n",
       "      <th>2</th>\n",
       "      <td>1</td>\n",
       "      <td>3.931826</td>\n",
       "      <td>1</td>\n",
       "      <td>1</td>\n",
       "      <td>0</td>\n",
       "      <td>-1.691339</td>\n",
       "      <td>0.693147</td>\n",
       "      <td>10.308986</td>\n",
       "      <td>1</td>\n",
       "      <td>0</td>\n",
       "      <td>...</td>\n",
       "      <td>0</td>\n",
       "      <td>1</td>\n",
       "      <td>0</td>\n",
       "      <td>0</td>\n",
       "      <td>0</td>\n",
       "      <td>1</td>\n",
       "      <td>0</td>\n",
       "      <td>1</td>\n",
       "      <td>0</td>\n",
       "      <td>0</td>\n",
       "    </tr>\n",
       "    <tr>\n",
       "      <th>3</th>\n",
       "      <td>1</td>\n",
       "      <td>4.043051</td>\n",
       "      <td>0</td>\n",
       "      <td>0</td>\n",
       "      <td>0</td>\n",
       "      <td>-2.374182</td>\n",
       "      <td>0.693147</td>\n",
       "      <td>9.741027</td>\n",
       "      <td>0</td>\n",
       "      <td>0</td>\n",
       "      <td>...</td>\n",
       "      <td>0</td>\n",
       "      <td>1</td>\n",
       "      <td>0</td>\n",
       "      <td>0</td>\n",
       "      <td>1</td>\n",
       "      <td>0</td>\n",
       "      <td>0</td>\n",
       "      <td>1</td>\n",
       "      <td>0</td>\n",
       "      <td>0</td>\n",
       "    </tr>\n",
       "    <tr>\n",
       "      <th>4</th>\n",
       "      <td>0</td>\n",
       "      <td>3.663562</td>\n",
       "      <td>0</td>\n",
       "      <td>0</td>\n",
       "      <td>0</td>\n",
       "      <td>-2.487502</td>\n",
       "      <td>0.000000</td>\n",
       "      <td>11.695255</td>\n",
       "      <td>0</td>\n",
       "      <td>0</td>\n",
       "      <td>...</td>\n",
       "      <td>0</td>\n",
       "      <td>1</td>\n",
       "      <td>0</td>\n",
       "      <td>0</td>\n",
       "      <td>1</td>\n",
       "      <td>0</td>\n",
       "      <td>0</td>\n",
       "      <td>1</td>\n",
       "      <td>0</td>\n",
       "      <td>0</td>\n",
       "    </tr>\n",
       "    <tr>\n",
       "      <th>...</th>\n",
       "      <td>...</td>\n",
       "      <td>...</td>\n",
       "      <td>...</td>\n",
       "      <td>...</td>\n",
       "      <td>...</td>\n",
       "      <td>...</td>\n",
       "      <td>...</td>\n",
       "      <td>...</td>\n",
       "      <td>...</td>\n",
       "      <td>...</td>\n",
       "      <td>...</td>\n",
       "      <td>...</td>\n",
       "      <td>...</td>\n",
       "      <td>...</td>\n",
       "      <td>...</td>\n",
       "      <td>...</td>\n",
       "      <td>...</td>\n",
       "      <td>...</td>\n",
       "      <td>...</td>\n",
       "      <td>...</td>\n",
       "      <td>...</td>\n",
       "    </tr>\n",
       "    <tr>\n",
       "      <th>36344</th>\n",
       "      <td>0</td>\n",
       "      <td>3.637586</td>\n",
       "      <td>0</td>\n",
       "      <td>0</td>\n",
       "      <td>0</td>\n",
       "      <td>-1.744976</td>\n",
       "      <td>1.386294</td>\n",
       "      <td>9.615872</td>\n",
       "      <td>0</td>\n",
       "      <td>0</td>\n",
       "      <td>...</td>\n",
       "      <td>0</td>\n",
       "      <td>0</td>\n",
       "      <td>0</td>\n",
       "      <td>0</td>\n",
       "      <td>0</td>\n",
       "      <td>1</td>\n",
       "      <td>0</td>\n",
       "      <td>0</td>\n",
       "      <td>1</td>\n",
       "      <td>0</td>\n",
       "    </tr>\n",
       "    <tr>\n",
       "      <th>36345</th>\n",
       "      <td>0</td>\n",
       "      <td>4.174387</td>\n",
       "      <td>1</td>\n",
       "      <td>1</td>\n",
       "      <td>0</td>\n",
       "      <td>-2.293781</td>\n",
       "      <td>1.386294</td>\n",
       "      <td>12.206078</td>\n",
       "      <td>0</td>\n",
       "      <td>0</td>\n",
       "      <td>...</td>\n",
       "      <td>0</td>\n",
       "      <td>0</td>\n",
       "      <td>1</td>\n",
       "      <td>0</td>\n",
       "      <td>0</td>\n",
       "      <td>0</td>\n",
       "      <td>1</td>\n",
       "      <td>1</td>\n",
       "      <td>0</td>\n",
       "      <td>0</td>\n",
       "    </tr>\n",
       "    <tr>\n",
       "      <th>36346</th>\n",
       "      <td>1</td>\n",
       "      <td>3.465736</td>\n",
       "      <td>0</td>\n",
       "      <td>0</td>\n",
       "      <td>0</td>\n",
       "      <td>-0.940752</td>\n",
       "      <td>0.693147</td>\n",
       "      <td>11.002117</td>\n",
       "      <td>0</td>\n",
       "      <td>0</td>\n",
       "      <td>...</td>\n",
       "      <td>1</td>\n",
       "      <td>0</td>\n",
       "      <td>0</td>\n",
       "      <td>0</td>\n",
       "      <td>0</td>\n",
       "      <td>1</td>\n",
       "      <td>0</td>\n",
       "      <td>0</td>\n",
       "      <td>1</td>\n",
       "      <td>0</td>\n",
       "    </tr>\n",
       "    <tr>\n",
       "      <th>36347</th>\n",
       "      <td>0</td>\n",
       "      <td>3.332205</td>\n",
       "      <td>0</td>\n",
       "      <td>0</td>\n",
       "      <td>0</td>\n",
       "      <td>-1.242392</td>\n",
       "      <td>1.098612</td>\n",
       "      <td>10.308986</td>\n",
       "      <td>0</td>\n",
       "      <td>0</td>\n",
       "      <td>...</td>\n",
       "      <td>0</td>\n",
       "      <td>0</td>\n",
       "      <td>0</td>\n",
       "      <td>1</td>\n",
       "      <td>0</td>\n",
       "      <td>0</td>\n",
       "      <td>0</td>\n",
       "      <td>0</td>\n",
       "      <td>1</td>\n",
       "      <td>0</td>\n",
       "    </tr>\n",
       "    <tr>\n",
       "      <th>36348</th>\n",
       "      <td>1</td>\n",
       "      <td>3.663562</td>\n",
       "      <td>0</td>\n",
       "      <td>0</td>\n",
       "      <td>0</td>\n",
       "      <td>-1.507549</td>\n",
       "      <td>1.098612</td>\n",
       "      <td>9.615872</td>\n",
       "      <td>0</td>\n",
       "      <td>0</td>\n",
       "      <td>...</td>\n",
       "      <td>1</td>\n",
       "      <td>0</td>\n",
       "      <td>0</td>\n",
       "      <td>0</td>\n",
       "      <td>0</td>\n",
       "      <td>1</td>\n",
       "      <td>0</td>\n",
       "      <td>1</td>\n",
       "      <td>0</td>\n",
       "      <td>0</td>\n",
       "    </tr>\n",
       "  </tbody>\n",
       "</table>\n",
       "<p>36349 rows × 43 columns</p>\n",
       "</div>"
      ],
      "text/plain": [
       "       sex       age  car  car_type  good_work  score_bki  bki_request_cnt  \\\n",
       "0        1  3.401197    1         1          0  -2.271884         1.386294   \n",
       "1        0  3.688879    0         0          0  -1.504999         1.098612   \n",
       "2        1  3.931826    1         1          0  -1.691339         0.693147   \n",
       "3        1  4.043051    0         0          0  -2.374182         0.693147   \n",
       "4        0  3.663562    0         0          0  -2.487502         0.000000   \n",
       "...    ...       ...  ...       ...        ...        ...              ...   \n",
       "36344    0  3.637586    0         0          0  -1.744976         1.386294   \n",
       "36345    0  4.174387    1         1          0  -2.293781         1.386294   \n",
       "36346    1  3.465736    0         0          0  -0.940752         0.693147   \n",
       "36347    0  3.332205    0         0          0  -1.242392         1.098612   \n",
       "36348    1  3.663562    0         0          0  -1.507549         1.098612   \n",
       "\n",
       "          income  foreign_passport  default  ...  first_time_2  first_time_3  \\\n",
       "0      10.819798                 0        0  ...             0             0   \n",
       "1       8.517393                 0        0  ...             0             1   \n",
       "2      10.308986                 1        0  ...             0             1   \n",
       "3       9.741027                 0        0  ...             0             1   \n",
       "4      11.695255                 0        0  ...             0             1   \n",
       "...          ...               ...      ...  ...           ...           ...   \n",
       "36344   9.615872                 0        0  ...             0             0   \n",
       "36345  12.206078                 0        0  ...             0             0   \n",
       "36346  11.002117                 0        0  ...             1             0   \n",
       "36347  10.308986                 0        0  ...             0             0   \n",
       "36348   9.615872                 0        0  ...             1             0   \n",
       "\n",
       "       first_time_4  app_month_1  app_month_2  app_month_3  app_month_4  \\\n",
       "0                 1            0            0            1            0   \n",
       "1                 0            1            0            0            0   \n",
       "2                 0            0            0            1            0   \n",
       "3                 0            0            1            0            0   \n",
       "4                 0            0            1            0            0   \n",
       "...             ...          ...          ...          ...          ...   \n",
       "36344             0            0            0            1            0   \n",
       "36345             1            0            0            0            1   \n",
       "36346             0            0            0            1            0   \n",
       "36347             0            1            0            0            0   \n",
       "36348             0            0            0            1            0   \n",
       "\n",
       "       decline_app_cnt_0  decline_app_cnt_1  decline_app_cnt_2  \n",
       "0                      1                  0                  0  \n",
       "1                      0                  0                  1  \n",
       "2                      1                  0                  0  \n",
       "3                      1                  0                  0  \n",
       "4                      1                  0                  0  \n",
       "...                  ...                ...                ...  \n",
       "36344                  0                  1                  0  \n",
       "36345                  1                  0                  0  \n",
       "36346                  0                  1                  0  \n",
       "36347                  0                  1                  0  \n",
       "36348                  1                  0                  0  \n",
       "\n",
       "[36349 rows x 43 columns]"
      ]
     },
     "execution_count": 229,
     "metadata": {},
     "output_type": "execute_result"
    }
   ],
   "source": [
    "test"
   ]
  },
  {
   "cell_type": "code",
   "execution_count": 248,
   "metadata": {
    "execution": {
     "iopub.execute_input": "2020-12-25T19:42:12.705507Z",
     "iopub.status.busy": "2020-12-25T19:42:12.704873Z",
     "iopub.status.idle": "2020-12-25T19:42:12.710009Z",
     "shell.execute_reply": "2020-12-25T19:42:12.710453Z"
    },
    "papermill": {
     "duration": 0.113791,
     "end_time": "2020-12-25T19:42:12.710618",
     "exception": false,
     "start_time": "2020-12-25T19:42:12.596827",
     "status": "completed"
    },
    "tags": []
   },
   "outputs": [],
   "source": [
    "submit = pd.DataFrame({'client_id': id_test,\n",
    "                           'default': y_pred_prob})"
   ]
  },
  {
   "cell_type": "code",
   "execution_count": 249,
   "metadata": {},
   "outputs": [
    {
     "data": {
      "text/html": [
       "<div>\n",
       "<style scoped>\n",
       "    .dataframe tbody tr th:only-of-type {\n",
       "        vertical-align: middle;\n",
       "    }\n",
       "\n",
       "    .dataframe tbody tr th {\n",
       "        vertical-align: top;\n",
       "    }\n",
       "\n",
       "    .dataframe thead th {\n",
       "        text-align: right;\n",
       "    }\n",
       "</style>\n",
       "<table border=\"1\" class=\"dataframe\">\n",
       "  <thead>\n",
       "    <tr style=\"text-align: right;\">\n",
       "      <th></th>\n",
       "      <th>client_id</th>\n",
       "      <th>default</th>\n",
       "    </tr>\n",
       "  </thead>\n",
       "  <tbody>\n",
       "    <tr>\n",
       "      <th>0</th>\n",
       "      <td>74835</td>\n",
       "      <td>0.212290</td>\n",
       "    </tr>\n",
       "    <tr>\n",
       "      <th>1</th>\n",
       "      <td>17527</td>\n",
       "      <td>0.713686</td>\n",
       "    </tr>\n",
       "    <tr>\n",
       "      <th>2</th>\n",
       "      <td>75683</td>\n",
       "      <td>0.310287</td>\n",
       "    </tr>\n",
       "    <tr>\n",
       "      <th>3</th>\n",
       "      <td>26883</td>\n",
       "      <td>0.389543</td>\n",
       "    </tr>\n",
       "    <tr>\n",
       "      <th>4</th>\n",
       "      <td>28862</td>\n",
       "      <td>0.155143</td>\n",
       "    </tr>\n",
       "  </tbody>\n",
       "</table>\n",
       "</div>"
      ],
      "text/plain": [
       "   client_id   default\n",
       "0      74835  0.212290\n",
       "1      17527  0.713686\n",
       "2      75683  0.310287\n",
       "3      26883  0.389543\n",
       "4      28862  0.155143"
      ]
     },
     "execution_count": 249,
     "metadata": {},
     "output_type": "execute_result"
    }
   ],
   "source": [
    "submit.head()"
   ]
  },
  {
   "cell_type": "code",
   "execution_count": 250,
   "metadata": {
    "execution": {
     "iopub.execute_input": "2020-12-25T19:42:12.930058Z",
     "iopub.status.busy": "2020-12-25T19:42:12.929430Z",
     "iopub.status.idle": "2020-12-25T19:42:13.308220Z",
     "shell.execute_reply": "2020-12-25T19:42:13.308706Z"
    },
    "papermill": {
     "duration": 0.490847,
     "end_time": "2020-12-25T19:42:13.308850",
     "exception": false,
     "start_time": "2020-12-25T19:42:12.818003",
     "status": "completed"
    },
    "tags": []
   },
   "outputs": [],
   "source": [
    "submit.to_csv('submission_us.csv', index=False)"
   ]
  },
  {
   "cell_type": "code",
   "execution_count": 251,
   "metadata": {
    "execution": {
     "iopub.execute_input": "2020-12-25T19:42:13.527946Z",
     "iopub.status.busy": "2020-12-25T19:42:13.527317Z",
     "iopub.status.idle": "2020-12-25T19:42:13.538293Z",
     "shell.execute_reply": "2020-12-25T19:42:13.537787Z"
    },
    "papermill": {
     "duration": 0.12332,
     "end_time": "2020-12-25T19:42:13.538405",
     "exception": false,
     "start_time": "2020-12-25T19:42:13.415085",
     "status": "completed"
    },
    "tags": []
   },
   "outputs": [
    {
     "data": {
      "text/html": [
       "<div>\n",
       "<style scoped>\n",
       "    .dataframe tbody tr th:only-of-type {\n",
       "        vertical-align: middle;\n",
       "    }\n",
       "\n",
       "    .dataframe tbody tr th {\n",
       "        vertical-align: top;\n",
       "    }\n",
       "\n",
       "    .dataframe thead th {\n",
       "        text-align: right;\n",
       "    }\n",
       "</style>\n",
       "<table border=\"1\" class=\"dataframe\">\n",
       "  <thead>\n",
       "    <tr style=\"text-align: right;\">\n",
       "      <th></th>\n",
       "      <th>client_id</th>\n",
       "      <th>default</th>\n",
       "    </tr>\n",
       "  </thead>\n",
       "  <tbody>\n",
       "    <tr>\n",
       "      <th>0</th>\n",
       "      <td>74835</td>\n",
       "      <td>0.212290</td>\n",
       "    </tr>\n",
       "    <tr>\n",
       "      <th>1</th>\n",
       "      <td>17527</td>\n",
       "      <td>0.713686</td>\n",
       "    </tr>\n",
       "    <tr>\n",
       "      <th>2</th>\n",
       "      <td>75683</td>\n",
       "      <td>0.310287</td>\n",
       "    </tr>\n",
       "    <tr>\n",
       "      <th>3</th>\n",
       "      <td>26883</td>\n",
       "      <td>0.389543</td>\n",
       "    </tr>\n",
       "    <tr>\n",
       "      <th>4</th>\n",
       "      <td>28862</td>\n",
       "      <td>0.155143</td>\n",
       "    </tr>\n",
       "    <tr>\n",
       "      <th>...</th>\n",
       "      <td>...</td>\n",
       "      <td>...</td>\n",
       "    </tr>\n",
       "    <tr>\n",
       "      <th>36344</th>\n",
       "      <td>83775</td>\n",
       "      <td>0.786760</td>\n",
       "    </tr>\n",
       "    <tr>\n",
       "      <th>36345</th>\n",
       "      <td>106254</td>\n",
       "      <td>0.146112</td>\n",
       "    </tr>\n",
       "    <tr>\n",
       "      <th>36346</th>\n",
       "      <td>81852</td>\n",
       "      <td>0.766684</td>\n",
       "    </tr>\n",
       "    <tr>\n",
       "      <th>36347</th>\n",
       "      <td>1971</td>\n",
       "      <td>0.575273</td>\n",
       "    </tr>\n",
       "    <tr>\n",
       "      <th>36348</th>\n",
       "      <td>69044</td>\n",
       "      <td>0.679982</td>\n",
       "    </tr>\n",
       "  </tbody>\n",
       "</table>\n",
       "<p>36349 rows × 2 columns</p>\n",
       "</div>"
      ],
      "text/plain": [
       "       client_id   default\n",
       "0          74835  0.212290\n",
       "1          17527  0.713686\n",
       "2          75683  0.310287\n",
       "3          26883  0.389543\n",
       "4          28862  0.155143\n",
       "...          ...       ...\n",
       "36344      83775  0.786760\n",
       "36345     106254  0.146112\n",
       "36346      81852  0.766684\n",
       "36347       1971  0.575273\n",
       "36348      69044  0.679982\n",
       "\n",
       "[36349 rows x 2 columns]"
      ]
     },
     "execution_count": 251,
     "metadata": {},
     "output_type": "execute_result"
    }
   ],
   "source": [
    "submit"
   ]
  },
  {
   "cell_type": "code",
   "execution_count": null,
   "metadata": {
    "papermill": {
     "duration": 0.105875,
     "end_time": "2020-12-25T19:42:13.752329",
     "exception": false,
     "start_time": "2020-12-25T19:42:13.646454",
     "status": "completed"
    },
    "tags": []
   },
   "outputs": [],
   "source": []
  }
 ],
 "metadata": {
  "kernelspec": {
   "display_name": "Python 3",
   "language": "python",
   "name": "python3"
  },
  "language_info": {
   "codemirror_mode": {
    "name": "ipython",
    "version": 3
   },
   "file_extension": ".py",
   "mimetype": "text/x-python",
   "name": "python",
   "nbconvert_exporter": "python",
   "pygments_lexer": "ipython3",
   "version": "3.7.6"
  },
  "papermill": {
   "duration": 842.732266,
   "end_time": "2020-12-25T19:42:13.976404",
   "environment_variables": {},
   "exception": null,
   "input_path": "__notebook__.ipynb",
   "output_path": "__notebook__.ipynb",
   "parameters": {},
   "start_time": "2020-12-25T19:28:11.244138",
   "version": "2.1.0"
  }
 },
 "nbformat": 4,
 "nbformat_minor": 4
}
